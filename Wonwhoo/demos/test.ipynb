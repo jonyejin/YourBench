{
 "cells": [
  {
   "cell_type": "code",
   "execution_count": 7,
   "metadata": {},
   "outputs": [],
   "source": [
    "import numpy as np\n",
    "import json\n",
    "import os\n",
    "import sys\n",
    "import time\n",
    "import warnings\n",
    "warnings.filterwarnings('ignore')\n",
    "import matplotlib.pyplot as plt\n",
    "%matplotlib inline\n",
    "\n",
    "import torch\n",
    "import torch.nn as nn\n",
    "import torch.optim as optim\n",
    "\n",
    "import torchvision.utils\n",
    "from torchvision import models\n",
    "import torchvision.datasets as dsets\n",
    "import torchvision.transforms as transforms\n",
    "\n",
    "import torchattacks\n",
    "\n",
    "from utils import imshow, image_folder_custom_label\n",
    "\n",
    "from torch.utils.tensorboard import SummaryWriter\n",
    "import torch.nn.functional as F\n",
    "\n",
    "# 기본 `log_dir` 은 \"runs\"이며, 여기서는 더 구체적으로 지정하였습니다\n",
    "writer = SummaryWriter('runs/white_box_attack_image_net')"
   ]
  },
  {
   "cell_type": "code",
   "execution_count": 8,
   "metadata": {},
   "outputs": [
    {
     "name": "stdout",
     "output_type": "stream",
     "text": [
      "PyTorch 1.9.1+cu102\n",
      "Torchvision 0.10.1+cu102\n",
      "Torchattacks 3.1.0\n",
      "Numpy 1.21.2\n"
     ]
    }
   ],
   "source": [
    "print(\"PyTorch\", torch.__version__)\n",
    "print(\"Torchvision\", torchvision.__version__)\n",
    "print(\"Torchattacks\", torchattacks.__version__)\n",
    "print(\"Numpy\", np.__version__)"
   ]
  },
  {
   "cell_type": "code",
   "execution_count": 9,
   "metadata": {},
   "outputs": [
    {
     "name": "stdout",
     "output_type": "stream",
     "text": [
      "True\n",
      "학습을 진행하는 기기: cpu\n"
     ]
    }
   ],
   "source": [
    "USE_CUDA = torch.cuda.is_available() \n",
    "print(USE_CUDA)\n",
    "\n",
    "# 'cuda:0' if USE_CUDA else \n",
    "device = torch.device('cpu') \n",
    "print('학습을 진행하는 기기:',device)"
   ]
  },
  {
   "cell_type": "code",
   "execution_count": 10,
   "metadata": {},
   "outputs": [],
   "source": [
    "# https://s3.amazonaws.com/deep-learning-models/image-models/imagenet_class_index.json\n",
    "class_idx = json.load(open(\"./data/imagenet_class_index.json\"))\n",
    "idx2label = [class_idx[str(k)][1] for k in range(len(class_idx))]\n",
    "\n",
    "transform = transforms.Compose([\n",
    "    transforms.Resize((299, 299)),\n",
    "    transforms.ToTensor(), # ToTensor : [0, 255] -> [0, 1]\n",
    "    \n",
    "# Using normalization for Inception v3.\n",
    "# https://discuss.pytorch.org/t/how-to-preprocess-input-for-pre-trained-networks/683\n",
    "#     transforms.Normalize(mean=[0.485, 0.456, 0.406],                     \n",
    "#                          std=[0.229, 0.224, 0.225])\n",
    "    \n",
    "# However, DO NOT USE normalization transforms here.\n",
    "# Torchattacks only supports images with a range between 0 and 1.\n",
    "# Thus, please refer to the model construction section.\n",
    "    \n",
    "])\n",
    "\n",
    "imagnet_data = image_folder_custom_label(root='./data/imagenet', transform=transform, idx2label=idx2label)\n",
    "data_loader = torch.utils.data.DataLoader(imagnet_data, batch_size=1, shuffle=False)\n",
    "\n",
    "# 임의의 학습 이미지를 가져옵니다\n",
    "dataiter = iter(data_loader)\n",
    "images, labels = dataiter.next()"
   ]
  },
  {
   "cell_type": "code",
   "execution_count": 11,
   "metadata": {},
   "outputs": [],
   "source": [
    "class MyModel(nn.Module):\n",
    "    def __init__(self, mean, std):\n",
    "        super(MyModel, self).__init__()\n",
    "        self.register_buffer('mean', torch.Tensor(mean))\n",
    "        self.register_buffer('std', torch.Tensor(std))\n",
    "        \n",
    "    def forward(self, input):\n",
    "        # Broadcasting\n",
    "        mean = self.mean.reshape(1, 3, 1, 1)\n",
    "        std = self.std.reshape(1, 3, 1, 1)\n",
    "        return (input - mean) / std\n",
    "        \n",
    "\n",
    "# model = model.eval()\n",
    "myModel = MyModel(mean=[0.485, 0.456, 0.406], std=[0.229, 0.224, 0.225]).eval()"
   ]
  },
  {
   "cell_type": "code",
   "execution_count": 12,
   "metadata": {},
   "outputs": [],
   "source": [
    "writer.add_graph(myModel, images)\n",
    "writer.close()"
   ]
  }
 ],
 "metadata": {
  "interpreter": {
   "hash": "31f2aee4e71d21fbe5cf8b01ff0e069b9275f58929596ceb00d14d90e3e16cd6"
  },
  "kernelspec": {
   "display_name": "Python 3.8.10 64-bit",
   "name": "python3"
  },
  "language_info": {
   "codemirror_mode": {
    "name": "ipython",
    "version": 3
   },
   "file_extension": ".py",
   "mimetype": "text/x-python",
   "name": "python",
   "nbconvert_exporter": "python",
   "pygments_lexer": "ipython3",
   "version": "3.8.10"
  },
  "orig_nbformat": 4
 },
 "nbformat": 4,
 "nbformat_minor": 2
}
