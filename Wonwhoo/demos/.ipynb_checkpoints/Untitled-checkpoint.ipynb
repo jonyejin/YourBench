{
 "cells": [
  {
   "cell_type": "code",
   "execution_count": 3,
   "id": "b8715e67",
   "metadata": {},
   "outputs": [],
   "source": [
    "#먼저 텍스트 원문을 만들자\n",
    "\n",
    "# 데이터셋의 복잡도 판단 >> 입력으로 받아야하나\n",
    "# 간단한 데이터일수록 방어하기가 쉽다..\n",
    "# L2공격을 했을 때\n",
    "# 복잡한 데이터셋의 경우 0%,\n",
    "# MNIST의 경우 55%정도의 accuracy를 가진다 >> 매우 잘 방어한거임.\n",
    "# 유의미 : meaningful의 정도가 매우 주관적\n",
    "\n",
    "# FGSM 50%면 평균적 (분포가 다양하게 나옴)\n",
    "# CW \n",
    "# Deepfool \n",
    "# PGD\n",
    "# >> average case를 기준으로 평가를 해야함..\n",
    "\n",
    "advice = []\n",
    "advice.append('Your model is', '?', 'against', '?', 'attack.')\n",
    "advice.append('and robust against', '?', 'attack.')\n",
    "advice.append('This weakness can be caused from setting hyper parameters, maybe input bias, or inpuy capacity.')\n",
    "advice.append('If you think none of this are your issues, we recommend adversarial training with our adversarial examples provided.')\n",
    "advice.append('Try again with adversarilly trained model and check out the result.')\n",
    "advice.append('See more info in the attached papers.')\n",
    "advice.append('Your model is', '?', 'aga')\n",
    "\n",
    "\n",
    "\n",
    "#다 만들었으면 45단위로 띄어쓰기를 넣어서 split해준다."
   ]
  }
 ],
 "metadata": {
  "kernelspec": {
   "display_name": "Python 3",
   "language": "python",
   "name": "python3"
  },
  "language_info": {
   "codemirror_mode": {
    "name": "ipython",
    "version": 3
   },
   "file_extension": ".py",
   "mimetype": "text/x-python",
   "name": "python",
   "nbconvert_exporter": "python",
   "pygments_lexer": "ipython3",
   "version": "3.7.10"
  }
 },
 "nbformat": 4,
 "nbformat_minor": 5
}
