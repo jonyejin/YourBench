{
 "cells": [
  {
   "cell_type": "code",
   "execution_count": 1,
   "id": "cb80c0f9",
   "metadata": {},
   "outputs": [],
   "source": [
    "import torch\n",
    "import torch.nn as nn\n",
    "import torchvision\n",
    "import torchvision.datasets as dsets\n"
   ]
  },
  {
   "cell_type": "code",
   "execution_count": 12,
   "id": "818bf6d7",
   "metadata": {},
   "outputs": [
    {
     "name": "stderr",
     "output_type": "stream",
     "text": [
      "Setting up a new session...\n",
      "Traceback (most recent call last):\n",
      "  File \"/opt/conda/lib/python3.7/site-packages/urllib3/connection.py\", line 175, in _new_conn\n",
      "    (self._dns_host, self.port), self.timeout, **extra_kw\n",
      "  File \"/opt/conda/lib/python3.7/site-packages/urllib3/util/connection.py\", line 96, in create_connection\n",
      "    raise err\n",
      "  File \"/opt/conda/lib/python3.7/site-packages/urllib3/util/connection.py\", line 86, in create_connection\n",
      "    sock.connect(sa)\n",
      "ConnectionRefusedError: [Errno 111] Connection refused\n",
      "\n",
      "During handling of the above exception, another exception occurred:\n",
      "\n",
      "Traceback (most recent call last):\n",
      "  File \"/opt/conda/lib/python3.7/site-packages/urllib3/connectionpool.py\", line 706, in urlopen\n",
      "    chunked=chunked,\n",
      "  File \"/opt/conda/lib/python3.7/site-packages/urllib3/connectionpool.py\", line 394, in _make_request\n",
      "    conn.request(method, url, **httplib_request_kw)\n",
      "  File \"/opt/conda/lib/python3.7/site-packages/urllib3/connection.py\", line 239, in request\n",
      "    super(HTTPConnection, self).request(method, url, body=body, headers=headers)\n",
      "  File \"/opt/conda/lib/python3.7/http/client.py\", line 1277, in request\n",
      "    self._send_request(method, url, body, headers, encode_chunked)\n",
      "  File \"/opt/conda/lib/python3.7/http/client.py\", line 1323, in _send_request\n",
      "    self.endheaders(body, encode_chunked=encode_chunked)\n",
      "  File \"/opt/conda/lib/python3.7/http/client.py\", line 1272, in endheaders\n",
      "    self._send_output(message_body, encode_chunked=encode_chunked)\n",
      "  File \"/opt/conda/lib/python3.7/http/client.py\", line 1032, in _send_output\n",
      "    self.send(msg)\n",
      "  File \"/opt/conda/lib/python3.7/http/client.py\", line 972, in send\n",
      "    self.connect()\n",
      "  File \"/opt/conda/lib/python3.7/site-packages/urllib3/connection.py\", line 205, in connect\n",
      "    conn = self._new_conn()\n",
      "  File \"/opt/conda/lib/python3.7/site-packages/urllib3/connection.py\", line 187, in _new_conn\n",
      "    self, \"Failed to establish a new connection: %s\" % e\n",
      "urllib3.exceptions.NewConnectionError: <urllib3.connection.HTTPConnection object at 0x7f37bf8a91d0>: Failed to establish a new connection: [Errno 111] Connection refused\n",
      "\n",
      "During handling of the above exception, another exception occurred:\n",
      "\n",
      "Traceback (most recent call last):\n",
      "  File \"/opt/conda/lib/python3.7/site-packages/requests/adapters.py\", line 449, in send\n",
      "    timeout=timeout\n",
      "  File \"/opt/conda/lib/python3.7/site-packages/urllib3/connectionpool.py\", line 756, in urlopen\n",
      "    method, url, error=e, _pool=self, _stacktrace=sys.exc_info()[2]\n",
      "  File \"/opt/conda/lib/python3.7/site-packages/urllib3/util/retry.py\", line 574, in increment\n",
      "    raise MaxRetryError(_pool, url, error or ResponseError(cause))\n",
      "urllib3.exceptions.MaxRetryError: HTTPConnectionPool(host='localhost', port=8097): Max retries exceeded with url: /env/main (Caused by NewConnectionError('<urllib3.connection.HTTPConnection object at 0x7f37bf8a91d0>: Failed to establish a new connection: [Errno 111] Connection refused'))\n",
      "\n",
      "During handling of the above exception, another exception occurred:\n",
      "\n",
      "Traceback (most recent call last):\n",
      "  File \"/opt/conda/lib/python3.7/site-packages/visdom/__init__.py\", line 711, in _send\n",
      "    data=json.dumps(msg),\n",
      "  File \"/opt/conda/lib/python3.7/site-packages/visdom/__init__.py\", line 677, in _handle_post\n",
      "    r = self.session.post(url, data=data)\n",
      "  File \"/opt/conda/lib/python3.7/site-packages/requests/sessions.py\", line 590, in post\n",
      "    return self.request('POST', url, data=data, json=json, **kwargs)\n",
      "  File \"/opt/conda/lib/python3.7/site-packages/requests/sessions.py\", line 542, in request\n",
      "    resp = self.send(prep, **send_kwargs)\n",
      "  File \"/opt/conda/lib/python3.7/site-packages/requests/sessions.py\", line 655, in send\n",
      "    r = adapter.send(request, **kwargs)\n",
      "  File \"/opt/conda/lib/python3.7/site-packages/requests/adapters.py\", line 516, in send\n",
      "    raise ConnectionError(e, request=request)\n",
      "requests.exceptions.ConnectionError: HTTPConnectionPool(host='localhost', port=8097): Max retries exceeded with url: /env/main (Caused by NewConnectionError('<urllib3.connection.HTTPConnection object at 0x7f37bf8a91d0>: Failed to establish a new connection: [Errno 111] Connection refused'))\n",
      "[Errno 111] Connection refused\n"
     ]
    },
    {
     "name": "stdout",
     "output_type": "stream",
     "text": [
      "Exception in user code:\n",
      "------------------------------------------------------------\n"
     ]
    }
   ],
   "source": [
    "import visdom\n",
    "vis = visdom.Visdom()"
   ]
  },
  {
   "cell_type": "code",
   "execution_count": 3,
   "id": "1afb721c",
   "metadata": {},
   "outputs": [],
   "source": [
    "#vis.text(\"캡스톤 테스트\",env=\"main\")"
   ]
  },
  {
   "cell_type": "code",
   "execution_count": 4,
   "id": "429e7c80",
   "metadata": {},
   "outputs": [],
   "source": [
    "#r = torch.randn(3, 200, 200) # 200x200크기의 임의 이미지 데이터 생성\n",
    "#vis.image(r) # 출력"
   ]
  },
  {
   "cell_type": "code",
   "execution_count": 5,
   "id": "5317b5c8",
   "metadata": {},
   "outputs": [],
   "source": [
    "#Y_data = torch.randn(5)\n",
    "#plt = vis.line(Y=Y_data)"
   ]
  },
  {
   "cell_type": "code",
   "execution_count": 6,
   "id": "8ce9d063",
   "metadata": {},
   "outputs": [],
   "source": [
    "#num = torch.Tensor(list(range(0,10)))\n",
    "#print(num.shape)\n",
    "#num=num.view(-1,1)\n",
    "#print(num.shape)\n",
    "#num=torch.cat((num,num),dim=1)\n",
    "#print(num.shape)\n",
    "\n",
    "#plt = vis.line(Y=torch.randn(10,2),X=num)\n",
    "\n",
    "#torch.Size([10])\n",
    "#torch.Size([10,1])\n",
    "#torch.Size([10,2])"
   ]
  },
  {
   "cell_type": "code",
   "execution_count": 7,
   "id": "8eae1c11",
   "metadata": {},
   "outputs": [
    {
     "name": "stdout",
     "output_type": "stream",
     "text": [
      "Exception in user code:\n",
      "------------------------------------------------------------\n"
     ]
    },
    {
     "name": "stderr",
     "output_type": "stream",
     "text": [
      "Traceback (most recent call last):\n",
      "  File \"/opt/conda/lib/python3.7/site-packages/urllib3/connection.py\", line 175, in _new_conn\n",
      "    (self._dns_host, self.port), self.timeout, **extra_kw\n",
      "  File \"/opt/conda/lib/python3.7/site-packages/urllib3/util/connection.py\", line 96, in create_connection\n",
      "    raise err\n",
      "  File \"/opt/conda/lib/python3.7/site-packages/urllib3/util/connection.py\", line 86, in create_connection\n",
      "    sock.connect(sa)\n",
      "ConnectionRefusedError: [Errno 111] Connection refused\n",
      "\n",
      "During handling of the above exception, another exception occurred:\n",
      "\n",
      "Traceback (most recent call last):\n",
      "  File \"/opt/conda/lib/python3.7/site-packages/urllib3/connectionpool.py\", line 706, in urlopen\n",
      "    chunked=chunked,\n",
      "  File \"/opt/conda/lib/python3.7/site-packages/urllib3/connectionpool.py\", line 394, in _make_request\n",
      "    conn.request(method, url, **httplib_request_kw)\n",
      "  File \"/opt/conda/lib/python3.7/site-packages/urllib3/connection.py\", line 239, in request\n",
      "    super(HTTPConnection, self).request(method, url, body=body, headers=headers)\n",
      "  File \"/opt/conda/lib/python3.7/http/client.py\", line 1277, in request\n",
      "    self._send_request(method, url, body, headers, encode_chunked)\n",
      "  File \"/opt/conda/lib/python3.7/http/client.py\", line 1323, in _send_request\n",
      "    self.endheaders(body, encode_chunked=encode_chunked)\n",
      "  File \"/opt/conda/lib/python3.7/http/client.py\", line 1272, in endheaders\n",
      "    self._send_output(message_body, encode_chunked=encode_chunked)\n",
      "  File \"/opt/conda/lib/python3.7/http/client.py\", line 1032, in _send_output\n",
      "    self.send(msg)\n",
      "  File \"/opt/conda/lib/python3.7/http/client.py\", line 972, in send\n",
      "    self.connect()\n",
      "  File \"/opt/conda/lib/python3.7/site-packages/urllib3/connection.py\", line 205, in connect\n",
      "    conn = self._new_conn()\n",
      "  File \"/opt/conda/lib/python3.7/site-packages/urllib3/connection.py\", line 187, in _new_conn\n",
      "    self, \"Failed to establish a new connection: %s\" % e\n",
      "urllib3.exceptions.NewConnectionError: <urllib3.connection.HTTPConnection object at 0x7f37c0112950>: Failed to establish a new connection: [Errno 111] Connection refused\n",
      "\n",
      "During handling of the above exception, another exception occurred:\n",
      "\n",
      "Traceback (most recent call last):\n",
      "  File \"/opt/conda/lib/python3.7/site-packages/requests/adapters.py\", line 449, in send\n",
      "    timeout=timeout\n",
      "  File \"/opt/conda/lib/python3.7/site-packages/urllib3/connectionpool.py\", line 756, in urlopen\n",
      "    method, url, error=e, _pool=self, _stacktrace=sys.exc_info()[2]\n",
      "  File \"/opt/conda/lib/python3.7/site-packages/urllib3/util/retry.py\", line 574, in increment\n",
      "    raise MaxRetryError(_pool, url, error or ResponseError(cause))\n",
      "urllib3.exceptions.MaxRetryError: HTTPConnectionPool(host='localhost', port=8097): Max retries exceeded with url: /close (Caused by NewConnectionError('<urllib3.connection.HTTPConnection object at 0x7f37c0112950>: Failed to establish a new connection: [Errno 111] Connection refused'))\n",
      "\n",
      "During handling of the above exception, another exception occurred:\n",
      "\n",
      "Traceback (most recent call last):\n",
      "  File \"/opt/conda/lib/python3.7/site-packages/visdom/__init__.py\", line 711, in _send\n",
      "    data=json.dumps(msg),\n",
      "  File \"/opt/conda/lib/python3.7/site-packages/visdom/__init__.py\", line 677, in _handle_post\n",
      "    r = self.session.post(url, data=data)\n",
      "  File \"/opt/conda/lib/python3.7/site-packages/requests/sessions.py\", line 590, in post\n",
      "    return self.request('POST', url, data=data, json=json, **kwargs)\n",
      "  File \"/opt/conda/lib/python3.7/site-packages/requests/sessions.py\", line 542, in request\n",
      "    resp = self.send(prep, **send_kwargs)\n",
      "  File \"/opt/conda/lib/python3.7/site-packages/requests/sessions.py\", line 655, in send\n",
      "    r = adapter.send(request, **kwargs)\n",
      "  File \"/opt/conda/lib/python3.7/site-packages/requests/adapters.py\", line 516, in send\n",
      "    raise ConnectionError(e, request=request)\n",
      "requests.exceptions.ConnectionError: HTTPConnectionPool(host='localhost', port=8097): Max retries exceeded with url: /close (Caused by NewConnectionError('<urllib3.connection.HTTPConnection object at 0x7f37c0112950>: Failed to establish a new connection: [Errno 111] Connection refused'))\n"
     ]
    },
    {
     "data": {
      "text/plain": [
       "False"
      ]
     },
     "execution_count": 7,
     "metadata": {},
     "output_type": "execute_result"
    }
   ],
   "source": [
    "vis.close(env=\"main\")\n",
    "#열려있는 창들을 한번에 없앨떄"
   ]
  },
  {
   "cell_type": "code",
   "execution_count": 14,
   "id": "d375ea89",
   "metadata": {},
   "outputs": [],
   "source": [
    "#number = input(\"숫자를 입력하세요: \")\n",
    "#print(number)\n",
    "# 더미데이터값을 직접 입력할때"
   ]
  },
  {
   "cell_type": "code",
   "execution_count": 15,
   "id": "38f48e4d",
   "metadata": {},
   "outputs": [
    {
     "name": "stdout",
     "output_type": "stream",
     "text": [
      "Exception in user code:\n",
      "------------------------------------------------------------\n"
     ]
    },
    {
     "name": "stderr",
     "output_type": "stream",
     "text": [
      "Traceback (most recent call last):\n",
      "  File \"/opt/conda/lib/python3.7/site-packages/urllib3/connection.py\", line 175, in _new_conn\n",
      "    (self._dns_host, self.port), self.timeout, **extra_kw\n",
      "  File \"/opt/conda/lib/python3.7/site-packages/urllib3/util/connection.py\", line 96, in create_connection\n",
      "    raise err\n",
      "  File \"/opt/conda/lib/python3.7/site-packages/urllib3/util/connection.py\", line 86, in create_connection\n",
      "    sock.connect(sa)\n",
      "ConnectionRefusedError: [Errno 111] Connection refused\n",
      "\n",
      "During handling of the above exception, another exception occurred:\n",
      "\n",
      "Traceback (most recent call last):\n",
      "  File \"/opt/conda/lib/python3.7/site-packages/urllib3/connectionpool.py\", line 706, in urlopen\n",
      "    chunked=chunked,\n",
      "  File \"/opt/conda/lib/python3.7/site-packages/urllib3/connectionpool.py\", line 394, in _make_request\n",
      "    conn.request(method, url, **httplib_request_kw)\n",
      "  File \"/opt/conda/lib/python3.7/site-packages/urllib3/connection.py\", line 239, in request\n",
      "    super(HTTPConnection, self).request(method, url, body=body, headers=headers)\n",
      "  File \"/opt/conda/lib/python3.7/http/client.py\", line 1277, in request\n",
      "    self._send_request(method, url, body, headers, encode_chunked)\n",
      "  File \"/opt/conda/lib/python3.7/http/client.py\", line 1323, in _send_request\n",
      "    self.endheaders(body, encode_chunked=encode_chunked)\n",
      "  File \"/opt/conda/lib/python3.7/http/client.py\", line 1272, in endheaders\n",
      "    self._send_output(message_body, encode_chunked=encode_chunked)\n",
      "  File \"/opt/conda/lib/python3.7/http/client.py\", line 1032, in _send_output\n",
      "    self.send(msg)\n",
      "  File \"/opt/conda/lib/python3.7/http/client.py\", line 972, in send\n",
      "    self.connect()\n",
      "  File \"/opt/conda/lib/python3.7/site-packages/urllib3/connection.py\", line 205, in connect\n",
      "    conn = self._new_conn()\n",
      "  File \"/opt/conda/lib/python3.7/site-packages/urllib3/connection.py\", line 187, in _new_conn\n",
      "    self, \"Failed to establish a new connection: %s\" % e\n",
      "urllib3.exceptions.NewConnectionError: <urllib3.connection.HTTPConnection object at 0x7f37c0117590>: Failed to establish a new connection: [Errno 111] Connection refused\n",
      "\n",
      "During handling of the above exception, another exception occurred:\n",
      "\n",
      "Traceback (most recent call last):\n",
      "  File \"/opt/conda/lib/python3.7/site-packages/requests/adapters.py\", line 449, in send\n",
      "    timeout=timeout\n",
      "  File \"/opt/conda/lib/python3.7/site-packages/urllib3/connectionpool.py\", line 756, in urlopen\n",
      "    method, url, error=e, _pool=self, _stacktrace=sys.exc_info()[2]\n",
      "  File \"/opt/conda/lib/python3.7/site-packages/urllib3/util/retry.py\", line 574, in increment\n",
      "    raise MaxRetryError(_pool, url, error or ResponseError(cause))\n",
      "urllib3.exceptions.MaxRetryError: HTTPConnectionPool(host='localhost', port=8097): Max retries exceeded with url: /events (Caused by NewConnectionError('<urllib3.connection.HTTPConnection object at 0x7f37c0117590>: Failed to establish a new connection: [Errno 111] Connection refused'))\n",
      "\n",
      "During handling of the above exception, another exception occurred:\n",
      "\n",
      "Traceback (most recent call last):\n",
      "  File \"/opt/conda/lib/python3.7/site-packages/visdom/__init__.py\", line 711, in _send\n",
      "    data=json.dumps(msg),\n",
      "  File \"/opt/conda/lib/python3.7/site-packages/visdom/__init__.py\", line 677, in _handle_post\n",
      "    r = self.session.post(url, data=data)\n",
      "  File \"/opt/conda/lib/python3.7/site-packages/requests/sessions.py\", line 590, in post\n",
      "    return self.request('POST', url, data=data, json=json, **kwargs)\n",
      "  File \"/opt/conda/lib/python3.7/site-packages/requests/sessions.py\", line 542, in request\n",
      "    resp = self.send(prep, **send_kwargs)\n",
      "  File \"/opt/conda/lib/python3.7/site-packages/requests/sessions.py\", line 655, in send\n",
      "    r = adapter.send(request, **kwargs)\n",
      "  File \"/opt/conda/lib/python3.7/site-packages/requests/adapters.py\", line 516, in send\n",
      "    raise ConnectionError(e, request=request)\n",
      "requests.exceptions.ConnectionError: HTTPConnectionPool(host='localhost', port=8097): Max retries exceeded with url: /events (Caused by NewConnectionError('<urllib3.connection.HTTPConnection object at 0x7f37c0117590>: Failed to establish a new connection: [Errno 111] Connection refused'))\n"
     ]
    },
    {
     "data": {
      "text/plain": [
       "False"
      ]
     },
     "execution_count": 15,
     "metadata": {},
     "output_type": "execute_result"
    }
   ],
   "source": [
    "#더미 데이터 12게\n",
    "#a1,a2,a3은 모델a의 best,average,worst case 값\n",
    "#a4,a5,a6은 모델b의 best,average,worst case 값\n",
    "#a7,a8,a9은 모델c의 best,average,worst case 값\n",
    "#a10,a11,a12은 모델d의 best,average,worst case 값\n",
    "\n",
    "a1=0.5\n",
    "a2=0.4\n",
    "a3=0.3\n",
    "a4=0.8\n",
    "a5=0.6\n",
    "a6=0.1\n",
    "a7=0.4\n",
    "a8=0.3\n",
    "a9=0.2\n",
    "a10=0.5\n",
    "a11=0.6\n",
    "a12=0.9\n",
    "\n",
    "vis.line(#X=torch.Tensor([[1, 1,1],[1,1,1], [1, 1,1],[1,1,1]]),\n",
    "    \n",
    "    Y=torch.Tensor([[a1, a2,a3],[a4,a5,a6], [a7, a8,a9],[a10,a11,a12]]),\n",
    "         \n",
    "         opts=dict(xlabel=\"모델a  모델b   모델c  모델d\", \n",
    "             title=\"그래프(왼쪽부터 모델a,모델b,모델c,모델d)\",legend=[\"Best case\", \"Average case\",\"Worst case\"], showlegend=True ))\n",
    "#plt = vis.line( Y=Y_data, X=X_data, opts=dict( title=\"Test Title\", showlegend=True )\n",
    "#)\n",
    "#vis.text(\"그래프 설명: 왼쪽부터 (모델a,모델b,모델c,모델d)\",env=\"main\")\n",
    "\n",
    "#모델 4개의 best average worst case값을 알면 그래프를 그릴 수가 있다."
   ]
  },
  {
   "cell_type": "code",
   "execution_count": 16,
   "id": "01d8caf3",
   "metadata": {
    "scrolled": true
   },
   "outputs": [
    {
     "ename": "NameError",
     "evalue": "name 'cx' is not defined",
     "output_type": "error",
     "traceback": [
      "\u001b[0;31m---------------------------------------------------------------------------\u001b[0m",
      "\u001b[0;31mNameError\u001b[0m                                 Traceback (most recent call last)",
      "\u001b[0;32m/tmp/ipykernel_2801/3002050977.py\u001b[0m in \u001b[0;36m<module>\u001b[0;34m\u001b[0m\n\u001b[1;32m      3\u001b[0m \u001b[0;32melse\u001b[0m\u001b[0;34m:\u001b[0m\u001b[0;34m\u001b[0m\u001b[0;34m\u001b[0m\u001b[0m\n\u001b[1;32m      4\u001b[0m     \u001b[0mab\u001b[0m\u001b[0;34m=\u001b[0m\u001b[0;36m1\u001b[0m\u001b[0;34m+\u001b[0m\u001b[0;36m7\u001b[0m\u001b[0;34m\u001b[0m\u001b[0;34m\u001b[0m\u001b[0m\n\u001b[0;32m----> 5\u001b[0;31m \u001b[0mvis\u001b[0m\u001b[0;34m.\u001b[0m\u001b[0mtext\u001b[0m\u001b[0;34m(\u001b[0m\u001b[0mcx\u001b[0m\u001b[0;34m,\u001b[0m\u001b[0menv\u001b[0m\u001b[0;34m=\u001b[0m\u001b[0;34m\"main\"\u001b[0m\u001b[0;34m)\u001b[0m\u001b[0;34m\u001b[0m\u001b[0;34m\u001b[0m\u001b[0m\n\u001b[0m\u001b[1;32m      6\u001b[0m \u001b[0;34m\u001b[0m\u001b[0m\n\u001b[1;32m      7\u001b[0m \u001b[0;31m#값 계산,설명 idea\u001b[0m\u001b[0;34m\u001b[0m\u001b[0;34m\u001b[0m\u001b[0;34m\u001b[0m\u001b[0m\n",
      "\u001b[0;31mNameError\u001b[0m: name 'cx' is not defined"
     ]
    }
   ],
   "source": [
    "if (1>2):\n",
    "    ab=1+5\n",
    "else:\n",
    "    ab=1+7\n",
    "vis.text(cx,env=\"main\")\n",
    "\n",
    "#값 계산,설명 idea "
   ]
  },
  {
   "cell_type": "code",
   "execution_count": null,
   "id": "e9777c33",
   "metadata": {},
   "outputs": [],
   "source": [
    "#vis.close(env=\"main\")"
   ]
  },
  {
   "cell_type": "code",
   "execution_count": null,
   "id": "b36734ec",
   "metadata": {},
   "outputs": [],
   "source": [
    "#Y_data = torch.randn(5)\n",
    "#plt = vis.line (Y=Y_data)"
   ]
  },
  {
   "cell_type": "code",
   "execution_count": null,
   "id": "77133ec9",
   "metadata": {},
   "outputs": [],
   "source": [
    "#a='a'\n",
    "#b='b'\n",
    "#c='c'\n",
    "#d='d'\n",
    "#X_data = torch.Tensor([a,b,c,d])\n",
    "#plt = vis.line(Y=Y_data, X=X_data)"
   ]
  },
  {
   "cell_type": "code",
   "execution_count": null,
   "id": "ae20a186",
   "metadata": {},
   "outputs": [],
   "source": [
    "from pandas import Series, DataFrame\n",
    "\n",
    "raw_data = {'col0': [1, 2, 3, 4],\n",
    "            'col1': [10, 20, 30, 40],\n",
    "            'col2': [100, 200, 300, 400]}\n",
    "\n",
    "data = DataFrame(raw_data)\n",
    "print(data)\n",
    "vis.text(data)"
   ]
  },
  {
   "cell_type": "code",
   "execution_count": null,
   "id": "e1d50087",
   "metadata": {},
   "outputs": [],
   "source": [
    "#a13 = str(a1) str(a2) str(a3)\n",
    "\n",
    "updatetextwindow = vis.text('Top-5 Accuracy against attacks')\n",
    "vis.text('-----------------------------------', win=updatetextwindow, append=True)\n",
    "vis.text('   || top-5  |  bst |  avg  |  wst  ||', win=updatetextwindow, append=True)\n",
    "vis.text('   ||모델 a  |   ' + str(a1) + '                                   |      '+ \n",
    "         str(a2)+'                |            '+\n",
    "         str(a3)+'                               || '\n",
    "         , win=updatetextwindow, append=True)  \n",
    "\n",
    "vis.text('   ||모델 b  |   ' + str(a4) + '                                   |      '+ \n",
    "         str(a5)+'                |            '+\n",
    "         str(a6)+'                               || '\n",
    "         , win=updatetextwindow, append=True)  \n",
    "\n",
    "vis.text('   ||모델 c  |   ' + str(a7) + '                                   |      '+ \n",
    "         str(a8)+'                |            '+\n",
    "         str(a9)+'                               || '\n",
    "         , win=updatetextwindow, append=True)  \n",
    "\n",
    "vis.text('   ||모델 d  |   ' + str(a10) + '                                   |      '+ \n",
    "         str(a11)+'                |            '+\n",
    "         str(a12)+'                               || '\n",
    "         , win=updatetextwindow, append=True)  \n",
    "\n",
    "\n",
    "vis.text('-----------------------------------', win=updatetextwindow, append=True)"
   ]
  },
  {
   "cell_type": "code",
   "execution_count": null,
   "id": "d020f569",
   "metadata": {},
   "outputs": [],
   "source": [
    "vis.text(a1)"
   ]
  },
  {
   "cell_type": "code",
   "execution_count": null,
   "id": "134b2422",
   "metadata": {},
   "outputs": [],
   "source": [
    "cifar10 = dsets.CIFAR10(root=\"./cifar10\",train = True, transform=torchvision.transforms.ToTensor(),download=True)"
   ]
  },
  {
   "cell_type": "code",
   "execution_count": null,
   "id": "61c5cb64",
   "metadata": {},
   "outputs": [],
   "source": [
    "data = cifar10.__getitem__(1)\n",
    "print(data[0].shape)\n",
    "vis.images(data[0],env=\"main\")"
   ]
  },
  {
   "cell_type": "code",
   "execution_count": null,
   "id": "147559bc",
   "metadata": {},
   "outputs": [],
   "source": [
    "data_loader = torch.utils.data.DataLoader(dataset = cifar10,\n",
    "                                          batch_size = 10,\n",
    "                                          shuffle = False)"
   ]
  },
  {
   "cell_type": "code",
   "execution_count": null,
   "id": "07816581",
   "metadata": {},
   "outputs": [],
   "source": [
    "#We can view many images at once.\n",
    "graphwindow = vis.text('Top-5 Accuracy against attacks')\n",
    "for num, value in enumerate(data_loader):\n",
    "    value = value[0]\n",
    "    print(value.shape)\n",
    "    vis.images(value, win=graphwindow)\n",
    "    break"
   ]
  },
  {
   "cell_type": "code",
   "execution_count": null,
   "id": "849e17e9",
   "metadata": {},
   "outputs": [],
   "source": [
    "https://storage.googleapis.com/download.tensorflow.org/example_1images/YellowLabradorLooking_new.jpg"
   ]
  },
  {
   "cell_type": "code",
   "execution_count": null,
   "id": "d8838c7f",
   "metadata": {},
   "outputs": [],
   "source": [
    "#평균값을 매기고 평균값이 높은 순위 2개를 찾는 함수\n",
    "A=' '\n",
    "B=' '\n",
    "C=' '\n",
    "D=' '\n",
    "b=' '\n",
    "c=' '\n",
    "d=' '\n",
    "e=' '\n",
    "f=' '\n",
    "k=' '\n",
    "avg=int((a1+a2+a3+a4+a5+a6+a7+a8+a9+a10+a11+a12)/12*100)\n",
    "aavg= (a1+a2+a3)/3\n",
    "bavg= (a4+a5+a6)/3\n",
    "cavg= (a7+a8+a9)/3\n",
    "davg= (a10+a11+a12)/3\n",
    "\n",
    "if (aavg>bavg and aavg>cavg and aavg>davg):\n",
    "    if(bavg > cavg and bavg>davg):\n",
    "        A='모델a'\n",
    "        B='모델b'\n",
    "        C='모델c'\n",
    "        D='모델d'\n",
    "    elif(cavg > bavg and cavg>davg):\n",
    "        A='모델a'\n",
    "        B='모델c'\n",
    "        C='모델b'\n",
    "        D='모델d'\n",
    "    else:    \n",
    "        A='모델a'\n",
    "        B='모델d'\n",
    "        C='모델b'\n",
    "        D='모델c'\n",
    "elif (bavg>aavg and bavg>cavg and bavg>davg):\n",
    "    if(aavg > cavg and aavg>davg):\n",
    "        A='모델a'\n",
    "        B='모델b'\n",
    "        C='모델c'\n",
    "        D='모델d'\n",
    "    elif(cavg > aavg and cavg>davg):\n",
    "        A='모델b'\n",
    "        B='모델c'\n",
    "        C='모델a'\n",
    "        D='모델d'\n",
    "    else:    \n",
    "        A='모델b'\n",
    "        B='모델d'\n",
    "        C='모델a'\n",
    "        D='모델c'\n",
    "elif (cavg>aavg and cavg>bavg and cavg>davg):\n",
    "    if(aavg > bavg and aavg>davg):\n",
    "        A='모델a'\n",
    "        B='모델c'\n",
    "        C='모델b'\n",
    "        D='모델d'\n",
    "    elif(bavg > aavg and bavg>davg):\n",
    "        A='모델b'\n",
    "        B='모델c'\n",
    "        C='모델a'\n",
    "        D='모델d'\n",
    "    else:    \n",
    "        A='모델c'\n",
    "        B='모델d'\n",
    "        C='모델a'\n",
    "        D='모델b'\n",
    "elif (davg>aavg and davg>bavg and davg>cavg):\n",
    "    if(aavg > bavg and aavg>cavg):\n",
    "        A='모델a'\n",
    "        B='모델d'\n",
    "        C='모델b'\n",
    "        D='모델c'\n",
    "    elif(bavg > aavg and bavg>cavg):\n",
    "        A='모델b'\n",
    "        B='모델d'\n",
    "        C='모델a'\n",
    "        D='모델c'\n",
    "    else:    \n",
    "        A='모델c'\n",
    "        B='모델d'  \n",
    "        C='모델a'\n",
    "        D='모델b'\n",
    "else:\n",
    "    A='오류'\n",
    "    B='오류'\n",
    "    C='오류'\n",
    "    D='오류'\n",
    "        \n",
    "        \n",
    "# 줄글 설명, 평균값이 높은 2 모델은 robust,나머지는 weak        \n",
    "if (avg >0 and avg <=40):\n",
    "    b= str(avg) + ' /100                             you should never use this model!'\n",
    "    c= 'Your model is  weak aganinst any attack. It is not recommended to use this model'\n",
    "    d= 'This weekness can be caused from setting hyper parameters,maybe input bias,or input capacity etc.'\n",
    "    e= 'if you think none of this are your issues we recommend adversarial training with provided our adversarial examples.'\n",
    "    f= 'Try again with adversarilly trained model and check out the result'\n",
    "\n",
    "elif (avg > 40 and avg <=70):  \n",
    "    b= str(avg) + ' /100                             try harder!'  \n",
    "    c= 'Your model is significantly weak aganinst '+A+ ' attack,and '+B+' attack.But relatively robust against '+C+' attack, and '+D+' attack'\n",
    "    d= 'This weekness can be caused from setting hyper parameters,maybe input bias,or input capacity etc.'\n",
    "    e= 'if you think none of this are your issues we recommend adversarial training with provided our adversarial examples.'\n",
    "    f= 'Try again with adversarilly trained model and check out the result'\n",
    "elif (ave > 70 and ave < 90):\n",
    "    b= str(avg) + ' /100                             try harder more!'\n",
    "    c= 'Your model is significantly weak aganinst '+A+ ' attack,and '+B+ ' attack.But relatively robust against '+C+ ' attack, and '+D+' attack'\n",
    "    d= 'This weekness can be caused from setting hyper parameters,maybe input bias,or input capacity etc.'\n",
    "    e= 'if you think none of this are your issues we recommend adversarial training with provided our adversarial examples.'\n",
    "    f= 'Try again with adversarilly trained model and check out the result'\n",
    "    \n",
    "elif (ave >= 90 and ave <= 100):    \n",
    "    b= str(avg) + ' /100                            you should use this model' \n",
    "    c= ' Your model is robust against any attack. you should use this model'\n",
    "    \n",
    "    e= 'if you think none of this are your issues we recommend adversarial training with provided our adversarial examples.'\n",
    "else:\n",
    "    b= 'error'\n",
    "\n",
    "aaa=vis.text(b)\n",
    "vis.text(k,win=aaa,append=True)\n",
    "vis.text(c,win=aaa,append=True)\n",
    "vis.text(k,win=aaa,append=True)\n",
    "vis.text(d,win=aaa,append=True)\n",
    "vis.text(k,win=aaa,append=True)\n",
    "vis.text(e,win=aaa,append=True)\n",
    "vis.text(k,win=aaa,append=True)\n",
    "vis.text(f,win=aaa,append=True)\n",
    "      \n",
    "      \n",
    "\n"
   ]
  },
  {
   "cell_type": "code",
   "execution_count": null,
   "id": "b62fc99c",
   "metadata": {},
   "outputs": [],
   "source": []
  },
  {
   "cell_type": "code",
   "execution_count": null,
   "id": "b7fab705",
   "metadata": {},
   "outputs": [],
   "source": [
    "#여기는 데이터 \n",
    "from PIL import Image\n",
    "%matplotlib inline\n",
    "import matplotlib\n",
    "import matplotlib.pyplot as plt\n",
    "import torch\n",
    "from torch.utils.data import Dataset,DataLoader\n",
    "import numpy as np\n",
    "import torchvision\n",
    "from torchvision import transforms"
   ]
  },
  {
   "cell_type": "code",
   "execution_count": null,
   "id": "23da6ff5",
   "metadata": {},
   "outputs": [],
   "source": [
    "def imshow(img):\n",
    "    img = img /2 + 0.5 # unnormalize\n",
    "    np_img = img.numpy()\n",
    "    # plt.imshow(np_img)\n",
    "    plt.imshow(np.transpose(np_img, (1,2,0)))\n",
    "    \n",
    "    print(np_img.shape)\n",
    "    print((np.transpose(np_img,(1,2,0))).shape)"
   ]
  },
  {
   "cell_type": "code",
   "execution_count": null,
   "id": "f2214f16",
   "metadata": {},
   "outputs": [],
   "source": [
    "trans = transforms.Compose([transforms.Resize((100.100)),\n",
    "                            transforms,ToTensor(),\n",
    "                            transform.Normalize((0.5,0.5,0.5),(0.5,0.5,0.5))\n",
    "                           ])\n",
    "trainset = torchvision.datasets.ImageFolder(root = \"C/Users/LG/Desktop/데이터\",\n",
    "                                           transform=trans)"
   ]
  },
  {
   "cell_type": "code",
   "execution_count": null,
   "id": "16a52684",
   "metadata": {},
   "outputs": [],
   "source": [
    "# !pip install IPython \n",
    "from IPython.display import Image  # 주피터 노트북에 이미지 삽입\n",
    "Image(\"Desktop/image1.png\")"
   ]
  },
  {
   "cell_type": "code",
   "execution_count": null,
   "id": "9e3d92fb",
   "metadata": {},
   "outputs": [],
   "source": [
    "#pip install opencv-python 설치\n",
    "from visdom import Visdom\n",
    "import numpy as np\n",
    "import cv2\n",
    "import torch\n",
    "\n",
    "#  read data using opencv \n",
    "img = cv2.imread(\"Desktop/image1.png\")\n",
    "# opencv read according to bgr ， visdom does by default RGB display, so channel conversion is required \n",
    "img = cv2.cvtColor(img, cv2.COLOR_BGR2RGB)\n",
    "# visdom something like the convolution model in pytorch ， all data received requires the number of channels in front \n",
    "img = np.transpose(img, (2, 0, 1))\n",
    "img = torch.from_numpy(img)\n",
    "#  visual image \n",
    "vis.image(img, win='pkq')"
   ]
  },
  {
   "cell_type": "code",
   "execution_count": null,
   "id": "a515332a",
   "metadata": {},
   "outputs": [],
   "source": []
  },
  {
   "cell_type": "code",
   "execution_count": null,
   "id": "a2f559e3",
   "metadata": {},
   "outputs": [],
   "source": []
  },
  {
   "cell_type": "code",
   "execution_count": null,
   "id": "a099f05c",
   "metadata": {},
   "outputs": [],
   "source": []
  }
 ],
 "metadata": {
  "kernelspec": {
   "display_name": "Python 3",
   "language": "python",
   "name": "python3"
  },
  "language_info": {
   "codemirror_mode": {
    "name": "ipython",
    "version": 3
   },
   "file_extension": ".py",
   "mimetype": "text/x-python",
   "name": "python",
   "nbconvert_exporter": "python",
   "pygments_lexer": "ipython3",
   "version": "3.7.10"
  }
 },
 "nbformat": 4,
 "nbformat_minor": 5
}
