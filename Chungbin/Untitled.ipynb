{
 "cells": [
  {
   "cell_type": "code",
   "execution_count": 113,
   "id": "cb80c0f9",
   "metadata": {},
   "outputs": [],
   "source": [
    "import torch\n",
    "import torch.nn as nn\n",
    "import torchvision\n",
    "import torchvision.datasets as dsets"
   ]
  },
  {
   "cell_type": "code",
   "execution_count": 114,
   "id": "818bf6d7",
   "metadata": {},
   "outputs": [
    {
     "name": "stderr",
     "output_type": "stream",
     "text": [
      "Setting up a new session...\n"
     ]
    }
   ],
   "source": [
    "import visdom\n",
    "vis = visdom.Visdom()"
   ]
  },
  {
   "cell_type": "code",
   "execution_count": 115,
   "id": "1afb721c",
   "metadata": {},
   "outputs": [],
   "source": [
    "#vis.text(\"캡스톤 테스트\",env=\"main\")"
   ]
  },
  {
   "cell_type": "code",
   "execution_count": 116,
   "id": "429e7c80",
   "metadata": {},
   "outputs": [
    {
     "data": {
      "text/plain": [
       "'window_3a03a4a9c4a096'"
      ]
     },
     "execution_count": 116,
     "metadata": {},
     "output_type": "execute_result"
    }
   ],
   "source": [
    "r = torch.randn(3, 200, 200) # 200x200크기의 임의 이미지 데이터 생성\n",
    "vis.image(r) # 출력"
   ]
  },
  {
   "cell_type": "code",
   "execution_count": 117,
   "id": "5317b5c8",
   "metadata": {},
   "outputs": [],
   "source": [
    "#Y_data = torch.randn(5)\n",
    "#plt = vis.line(Y=Y_data)"
   ]
  },
  {
   "cell_type": "code",
   "execution_count": 118,
   "id": "8ce9d063",
   "metadata": {},
   "outputs": [
    {
     "name": "stdout",
     "output_type": "stream",
     "text": [
      "torch.Size([10])\n",
      "torch.Size([10, 1])\n",
      "torch.Size([10, 2])\n"
     ]
    },
    {
     "data": {
      "text/plain": [
       "torch.Size([10, 2])"
      ]
     },
     "execution_count": 118,
     "metadata": {},
     "output_type": "execute_result"
    }
   ],
   "source": [
    "num = torch.Tensor(list(range(0,10)))\n",
    "print(num.shape)\n",
    "num=num.view(-1,1)\n",
    "print(num.shape)\n",
    "num=torch.cat((num,num),dim=1)\n",
    "print(num.shape)\n",
    "\n",
    "plt = vis.line(Y=torch.randn(10,2),X=num)\n",
    "\n",
    "torch.Size([10])\n",
    "torch.Size([10,1])\n",
    "torch.Size([10,2])"
   ]
  },
  {
   "cell_type": "code",
   "execution_count": 126,
   "id": "8eae1c11",
   "metadata": {},
   "outputs": [
    {
     "data": {
      "text/plain": [
       "''"
      ]
     },
     "execution_count": 126,
     "metadata": {},
     "output_type": "execute_result"
    }
   ],
   "source": [
    "vis.close(env=\"main\")\n",
    "#열려있는 창들을 한번에 없앨떄"
   ]
  },
  {
   "cell_type": "code",
   "execution_count": 132,
   "id": "d375ea89",
   "metadata": {},
   "outputs": [
    {
     "name": "stdout",
     "output_type": "stream",
     "text": [
      "숫자를 입력하세요: 4\n",
      "4\n"
     ]
    }
   ],
   "source": [
    "#number = input(\"숫자를 입력하세요: \")\n",
    "#print(number)\n",
    "# 더미데이터값을 직접 입력할때"
   ]
  },
  {
   "cell_type": "code",
   "execution_count": 133,
   "id": "38f48e4d",
   "metadata": {},
   "outputs": [
    {
     "data": {
      "text/plain": [
       "'window_3a03a72cacb200'"
      ]
     },
     "execution_count": 133,
     "metadata": {},
     "output_type": "execute_result"
    }
   ],
   "source": [
    "#더미 데이터 12게\n",
    "#a1,a2,a3은 모델a의 best,average,worst case 값\n",
    "#a4,a5,a6은 모델b의 best,average,worst case 값\n",
    "#a7,a8,a9은 모델c의 best,average,worst case 값\n",
    "#a10,a11,a12은 모델d의 best,average,worst case 값\n",
    "\n",
    "a1=0.9\n",
    "a2=1.3\n",
    "a3=1.5\n",
    "a4=1.2\n",
    "a5=1.1\n",
    "a6=0.9\n",
    "a7=2.1\n",
    "a8=1.8\n",
    "a9=1.7\n",
    "a10=1.4\n",
    "a11=1.1\n",
    "a12=1.2\n",
    "\n",
    "vis.line(#X=torch.Tensor([[1, 1,1],[1,1,1], [1, 1,1],[1,1,1]]),\n",
    "    Y=torch.Tensor([[a1, a2,a3],[a4,a5,a6], [a7, a8,a9],[a10,a11,a12]]),\n",
    "         \n",
    "         opts=dict( title=\"그래프\",legend=[\"Best case\", \"Average case\",\"Worst case\"], showlegend=True ))\n",
    "#plt = vis.line( Y=Y_data, X=X_data, opts=dict( title=\"Test Title\", showlegend=True )\n",
    "#)\n",
    "vis.text(\"그래프 왼쪽부터 (모델a,모델b,모델c,모델d)\",env=\"main\")\n",
    "\n",
    "#모델 4개의 best average worst case값을 알면 그래프를 그릴 수가 있다."
   ]
  },
  {
   "cell_type": "code",
   "execution_count": 128,
   "id": "8ebad431",
   "metadata": {},
   "outputs": [],
   "source": [
    "#Y_data = torch.randn(5)\n",
    "#plt = vis.line (Y=Y_data)\n",
    "#X_data = torch.Tensor([a,b,c,d,e])\n",
    "#plt = vis.line(Y=Y_data, X=X_data)\n",
    "\n",
    "#x축의 "
   ]
  },
  {
   "cell_type": "code",
   "execution_count": 129,
   "id": "6074d932",
   "metadata": {},
   "outputs": [],
   "source": [
    "#다음 주 계획: 위의 값으로 표를 그리기"
   ]
  },
  {
   "cell_type": "code",
   "execution_count": 131,
   "id": "01d8caf3",
   "metadata": {},
   "outputs": [
    {
     "data": {
      "text/plain": [
       "'window_3a03a6483691be'"
      ]
     },
     "execution_count": 131,
     "metadata": {},
     "output_type": "execute_result"
    }
   ],
   "source": [
    "if (1>2):\n",
    "    ab=1+5\n",
    "else:\n",
    "    ab=1+7\n",
    "vis.text(cx,env=\"main\")\n",
    "\n",
    "#값 계산,설명 idea "
   ]
  },
  {
   "cell_type": "code",
   "execution_count": null,
   "id": "e9777c33",
   "metadata": {},
   "outputs": [],
   "source": []
  }
 ],
 "metadata": {
  "kernelspec": {
   "display_name": "Pytorch",
   "language": "python",
   "name": "pytorch"
  },
  "language_info": {
   "codemirror_mode": {
    "name": "ipython",
    "version": 3
   },
   "file_extension": ".py",
   "mimetype": "text/x-python",
   "name": "python",
   "nbconvert_exporter": "python",
   "pygments_lexer": "ipython3",
   "version": "3.8.11"
  }
 },
 "nbformat": 4,
 "nbformat_minor": 5
}
