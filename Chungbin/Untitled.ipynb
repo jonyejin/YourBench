{
 "cells": [
  {
   "cell_type": "code",
   "execution_count": 1,
   "id": "cb80c0f9",
   "metadata": {},
   "outputs": [],
   "source": [
    "import torch\n",
    "import torch.nn as nn\n",
    "import torchvision\n",
    "import torchvision.datasets as dsets\n"
   ]
  },
  {
   "cell_type": "code",
   "execution_count": 2,
   "id": "818bf6d7",
   "metadata": {},
   "outputs": [
    {
     "name": "stderr",
     "output_type": "stream",
     "text": [
      "Setting up a new session...\n"
     ]
    }
   ],
   "source": [
    "import visdom\n",
    "vis = visdom.Visdom()"
   ]
  },
  {
   "cell_type": "code",
   "execution_count": 3,
   "id": "1afb721c",
   "metadata": {},
   "outputs": [],
   "source": [
    "#vis.text(\"캡스톤 테스트\",env=\"main\")"
   ]
  },
  {
   "cell_type": "code",
   "execution_count": 4,
   "id": "429e7c80",
   "metadata": {},
   "outputs": [
    {
     "data": {
      "text/plain": [
       "'window_3a174763ac83ba'"
      ]
     },
     "execution_count": 4,
     "metadata": {},
     "output_type": "execute_result"
    }
   ],
   "source": [
    "r = torch.randn(3, 200, 200) # 200x200크기의 임의 이미지 데이터 생성\n",
    "vis.image(r) # 출력"
   ]
  },
  {
   "cell_type": "code",
   "execution_count": 5,
   "id": "5317b5c8",
   "metadata": {},
   "outputs": [],
   "source": [
    "#Y_data = torch.randn(5)\n",
    "#plt = vis.line(Y=Y_data)"
   ]
  },
  {
   "cell_type": "code",
   "execution_count": 6,
   "id": "8ce9d063",
   "metadata": {},
   "outputs": [
    {
     "name": "stdout",
     "output_type": "stream",
     "text": [
      "torch.Size([10])\n",
      "torch.Size([10, 1])\n",
      "torch.Size([10, 2])\n"
     ]
    },
    {
     "data": {
      "text/plain": [
       "torch.Size([10, 2])"
      ]
     },
     "execution_count": 6,
     "metadata": {},
     "output_type": "execute_result"
    }
   ],
   "source": [
    "num = torch.Tensor(list(range(0,10)))\n",
    "print(num.shape)\n",
    "num=num.view(-1,1)\n",
    "print(num.shape)\n",
    "num=torch.cat((num,num),dim=1)\n",
    "print(num.shape)\n",
    "\n",
    "plt = vis.line(Y=torch.randn(10,2),X=num)\n",
    "\n",
    "torch.Size([10])\n",
    "torch.Size([10,1])\n",
    "torch.Size([10,2])"
   ]
  },
  {
   "cell_type": "code",
   "execution_count": 45,
   "id": "8eae1c11",
   "metadata": {},
   "outputs": [
    {
     "data": {
      "text/plain": [
       "''"
      ]
     },
     "execution_count": 45,
     "metadata": {},
     "output_type": "execute_result"
    }
   ],
   "source": [
    "vis.close(env=\"main\")\n",
    "#열려있는 창들을 한번에 없앨떄"
   ]
  },
  {
   "cell_type": "code",
   "execution_count": 8,
   "id": "d375ea89",
   "metadata": {},
   "outputs": [],
   "source": [
    "#number = input(\"숫자를 입력하세요: \")\n",
    "#print(number)\n",
    "# 더미데이터값을 직접 입력할때"
   ]
  },
  {
   "cell_type": "code",
   "execution_count": 9,
   "id": "38f48e4d",
   "metadata": {},
   "outputs": [
    {
     "data": {
      "text/plain": [
       "'window_3a174764530200'"
      ]
     },
     "execution_count": 9,
     "metadata": {},
     "output_type": "execute_result"
    }
   ],
   "source": [
    "#더미 데이터 12게\n",
    "#a1,a2,a3은 모델a의 best,average,worst case 값\n",
    "#a4,a5,a6은 모델b의 best,average,worst case 값\n",
    "#a7,a8,a9은 모델c의 best,average,worst case 값\n",
    "#a10,a11,a12은 모델d의 best,average,worst case 값\n",
    "\n",
    "a1=0.5\n",
    "a2=0.4\n",
    "a3=0.3\n",
    "a4=0.8\n",
    "a5=0.6\n",
    "a6=0.1\n",
    "a7=0.4\n",
    "a8=0.3\n",
    "a9=0.2\n",
    "a10=0.5\n",
    "a11=0.6\n",
    "a12=0.9\n",
    "\n",
    "vis.line(#X=torch.Tensor([[1, 1,1],[1,1,1], [1, 1,1],[1,1,1]]),\n",
    "    \n",
    "    Y=torch.Tensor([[a1, a2,a3],[a4,a5,a6], [a7, a8,a9],[a10,a11,a12]]),\n",
    "         \n",
    "         opts=dict(xlabel=\"모델a  모델b   모델c  모델d\", \n",
    "             title=\"그래프(왼쪽부터 모델a,모델b,모델c,모델d)\",legend=[\"Best case\", \"Average case\",\"Worst case\"], showlegend=True ))\n",
    "#plt = vis.line( Y=Y_data, X=X_data, opts=dict( title=\"Test Title\", showlegend=True )\n",
    "#)\n",
    "#vis.text(\"그래프 설명: 왼쪽부터 (모델a,모델b,모델c,모델d)\",env=\"main\")\n",
    "\n",
    "#모델 4개의 best average worst case값을 알면 그래프를 그릴 수가 있다."
   ]
  },
  {
   "cell_type": "code",
   "execution_count": 10,
   "id": "01d8caf3",
   "metadata": {
    "scrolled": true
   },
   "outputs": [
    {
     "ename": "NameError",
     "evalue": "name 'cx' is not defined",
     "output_type": "error",
     "traceback": [
      "\u001b[1;31m---------------------------------------------------------------------------\u001b[0m",
      "\u001b[1;31mNameError\u001b[0m                                 Traceback (most recent call last)",
      "\u001b[1;32m~\\AppData\\Local\\Temp/ipykernel_6524/3002050977.py\u001b[0m in \u001b[0;36m<module>\u001b[1;34m\u001b[0m\n\u001b[0;32m      3\u001b[0m \u001b[1;32melse\u001b[0m\u001b[1;33m:\u001b[0m\u001b[1;33m\u001b[0m\u001b[1;33m\u001b[0m\u001b[0m\n\u001b[0;32m      4\u001b[0m     \u001b[0mab\u001b[0m\u001b[1;33m=\u001b[0m\u001b[1;36m1\u001b[0m\u001b[1;33m+\u001b[0m\u001b[1;36m7\u001b[0m\u001b[1;33m\u001b[0m\u001b[1;33m\u001b[0m\u001b[0m\n\u001b[1;32m----> 5\u001b[1;33m \u001b[0mvis\u001b[0m\u001b[1;33m.\u001b[0m\u001b[0mtext\u001b[0m\u001b[1;33m(\u001b[0m\u001b[0mcx\u001b[0m\u001b[1;33m,\u001b[0m\u001b[0menv\u001b[0m\u001b[1;33m=\u001b[0m\u001b[1;34m\"main\"\u001b[0m\u001b[1;33m)\u001b[0m\u001b[1;33m\u001b[0m\u001b[1;33m\u001b[0m\u001b[0m\n\u001b[0m\u001b[0;32m      6\u001b[0m \u001b[1;33m\u001b[0m\u001b[0m\n\u001b[0;32m      7\u001b[0m \u001b[1;31m#값 계산,설명 idea\u001b[0m\u001b[1;33m\u001b[0m\u001b[1;33m\u001b[0m\u001b[1;33m\u001b[0m\u001b[0m\n",
      "\u001b[1;31mNameError\u001b[0m: name 'cx' is not defined"
     ]
    }
   ],
   "source": [
    "if (1>2):\n",
    "    ab=1+5\n",
    "else:\n",
    "    ab=1+7\n",
    "vis.text(cx,env=\"main\")\n",
    "\n",
    "#값 계산,설명 idea "
   ]
  },
  {
   "cell_type": "code",
   "execution_count": 23,
   "id": "e9777c33",
   "metadata": {},
   "outputs": [
    {
     "data": {
      "text/plain": [
       "''"
      ]
     },
     "execution_count": 23,
     "metadata": {},
     "output_type": "execute_result"
    }
   ],
   "source": [
    "vis.close(env=\"main\")"
   ]
  },
  {
   "cell_type": "code",
   "execution_count": null,
   "id": "b36734ec",
   "metadata": {},
   "outputs": [],
   "source": [
    "#Y_data = torch.randn(5)\n",
    "#plt = vis.line (Y=Y_data)"
   ]
  },
  {
   "cell_type": "code",
   "execution_count": null,
   "id": "77133ec9",
   "metadata": {},
   "outputs": [],
   "source": [
    "#a='a'\n",
    "#b='b'\n",
    "#c='c'\n",
    "#d='d'\n",
    "#X_data = torch.Tensor([a,b,c,d])\n",
    "#plt = vis.line(Y=Y_data, X=X_data)"
   ]
  },
  {
   "cell_type": "code",
   "execution_count": null,
   "id": "ae20a186",
   "metadata": {},
   "outputs": [],
   "source": [
    "from pandas import Series, DataFrame\n",
    "\n",
    "raw_data = {'col0': [1, 2, 3, 4],\n",
    "            'col1': [10, 20, 30, 40],\n",
    "            'col2': [100, 200, 300, 400]}\n",
    "\n",
    "data = DataFrame(raw_data)\n",
    "print(data)\n",
    "vis.text(data)"
   ]
  },
  {
   "cell_type": "code",
   "execution_count": null,
   "id": "e1d50087",
   "metadata": {},
   "outputs": [],
   "source": [
    "#a13 = str(a1) str(a2) str(a3)\n",
    "\n",
    "updatetextwindow = vis.text('Top-5 Accuracy against attacks')\n",
    "vis.text('-----------------------------------', win=updatetextwindow, append=True)\n",
    "vis.text('   || top-5  |  bst |  avg  |  wst  ||', win=updatetextwindow, append=True)\n",
    "vis.text('   ||모델 a  |   ' + str(a1) + '                                   |      '+ \n",
    "         str(a2)+'                |            '+\n",
    "         str(a3)+'                               || '\n",
    "         , win=updatetextwindow, append=True)  \n",
    "\n",
    "vis.text('   ||모델 b  |   ' + str(a4) + '                                   |      '+ \n",
    "         str(a5)+'                |            '+\n",
    "         str(a6)+'                               || '\n",
    "         , win=updatetextwindow, append=True)  \n",
    "\n",
    "vis.text('   ||모델 c  |   ' + str(a7) + '                                   |      '+ \n",
    "         str(a8)+'                |            '+\n",
    "         str(a9)+'                               || '\n",
    "         , win=updatetextwindow, append=True)  \n",
    "\n",
    "vis.text('   ||모델 d  |   ' + str(a10) + '                                   |      '+ \n",
    "         str(a11)+'                |            '+\n",
    "         str(a12)+'                               || '\n",
    "         , win=updatetextwindow, append=True)  \n",
    "\n",
    "\n",
    "vis.text('-----------------------------------', win=updatetextwindow, append=True)"
   ]
  },
  {
   "cell_type": "code",
   "execution_count": 11,
   "id": "d020f569",
   "metadata": {},
   "outputs": [
    {
     "data": {
      "text/plain": [
       "'window_3a174764f77b6c'"
      ]
     },
     "execution_count": 11,
     "metadata": {},
     "output_type": "execute_result"
    }
   ],
   "source": [
    "vis.text(a1)"
   ]
  },
  {
   "cell_type": "code",
   "execution_count": 12,
   "id": "134b2422",
   "metadata": {},
   "outputs": [
    {
     "name": "stdout",
     "output_type": "stream",
     "text": [
      "Files already downloaded and verified\n"
     ]
    }
   ],
   "source": [
    "cifar10 = dsets.CIFAR10(root=\"./cifar10\",train = True, transform=torchvision.transforms.ToTensor(),download=True)"
   ]
  },
  {
   "cell_type": "code",
   "execution_count": 13,
   "id": "61c5cb64",
   "metadata": {},
   "outputs": [
    {
     "name": "stdout",
     "output_type": "stream",
     "text": [
      "torch.Size([3, 32, 32])\n"
     ]
    },
    {
     "data": {
      "text/plain": [
       "'window_3a174766f23d46'"
      ]
     },
     "execution_count": 13,
     "metadata": {},
     "output_type": "execute_result"
    }
   ],
   "source": [
    "data = cifar10.__getitem__(1)\n",
    "print(data[0].shape)\n",
    "vis.images(data[0],env=\"main\")"
   ]
  },
  {
   "cell_type": "code",
   "execution_count": 14,
   "id": "147559bc",
   "metadata": {},
   "outputs": [],
   "source": [
    "data_loader = torch.utils.data.DataLoader(dataset = cifar10,\n",
    "                                          batch_size = 10,\n",
    "                                          shuffle = False)"
   ]
  },
  {
   "cell_type": "code",
   "execution_count": 15,
   "id": "07816581",
   "metadata": {},
   "outputs": [
    {
     "name": "stdout",
     "output_type": "stream",
     "text": [
      "torch.Size([10, 3, 32, 32])\n"
     ]
    }
   ],
   "source": [
    "#We can view many images at once.\n",
    "graphwindow = vis.text('Top-5 Accuracy against attacks')\n",
    "for num, value in enumerate(data_loader):\n",
    "    value = value[0]\n",
    "    print(value.shape)\n",
    "    vis.images(value, win=graphwindow)\n",
    "    break"
   ]
  },
  {
   "cell_type": "code",
   "execution_count": 16,
   "id": "849e17e9",
   "metadata": {},
   "outputs": [
    {
     "ename": "SyntaxError",
     "evalue": "invalid syntax (Temp/ipykernel_6524/1430088241.py, line 1)",
     "output_type": "error",
     "traceback": [
      "\u001b[1;36m  File \u001b[1;32m\"C:\\Users\\LG\\AppData\\Local\\Temp/ipykernel_6524/1430088241.py\"\u001b[1;36m, line \u001b[1;32m1\u001b[0m\n\u001b[1;33m    https://storage.googleapis.com/download.tensorflow.org/example_1images/YellowLabradorLooking_new.jpg\u001b[0m\n\u001b[1;37m          ^\u001b[0m\n\u001b[1;31mSyntaxError\u001b[0m\u001b[1;31m:\u001b[0m invalid syntax\n"
     ]
    }
   ],
   "source": [
    "https://storage.googleapis.com/download.tensorflow.org/example_1images/YellowLabradorLooking_new.jpg"
   ]
  },
  {
   "cell_type": "code",
   "execution_count": 47,
   "id": "d8838c7f",
   "metadata": {},
   "outputs": [
    {
     "data": {
      "text/plain": [
       "'window_3a1755a2d84c00'"
      ]
     },
     "execution_count": 47,
     "metadata": {},
     "output_type": "execute_result"
    }
   ],
   "source": [
    "#평균값을 매기고 평균값이 높은 순위 2개를 찾는 함수\n",
    "A=' '\n",
    "B=' '\n",
    "C=' '\n",
    "D=' '\n",
    "b=' '\n",
    "c=' '\n",
    "d=' '\n",
    "e=' '\n",
    "f=' '\n",
    "k=' '\n",
    "avg=int((a1+a2+a3+a4+a5+a6+a7+a8+a9+a10+a11+a12)/12*100)\n",
    "aavg= (a1+a2+a3)/3\n",
    "bavg= (a4+a5+a6)/3\n",
    "cavg= (a7+a8+a9)/3\n",
    "davg= (a10+a11+a12)/3\n",
    "\n",
    "if (aavg>bavg and aavg>cavg and aavg>davg):\n",
    "    if(bavg > cavg and bavg>davg):\n",
    "        A='모델a'\n",
    "        B='모델b'\n",
    "        C='모델c'\n",
    "        D='모델d'\n",
    "    elif(cavg > bavg and cavg>davg):\n",
    "        A='모델a'\n",
    "        B='모델c'\n",
    "        C='모델b'\n",
    "        D='모델d'\n",
    "    else:    \n",
    "        A='모델a'\n",
    "        B='모델d'\n",
    "        C='모델b'\n",
    "        D='모델c'\n",
    "elif (bavg>aavg and bavg>cavg and bavg>davg):\n",
    "    if(aavg > cavg and aavg>davg):\n",
    "        A='모델a'\n",
    "        B='모델b'\n",
    "        C='모델c'\n",
    "        D='모델d'\n",
    "    elif(cavg > aavg and cavg>davg):\n",
    "        A='모델b'\n",
    "        B='모델c'\n",
    "        C='모델a'\n",
    "        D='모델d'\n",
    "    else:    \n",
    "        A='모델b'\n",
    "        B='모델d'\n",
    "        C='모델a'\n",
    "        D='모델c'\n",
    "elif (cavg>aavg and cavg>bavg and cavg>davg):\n",
    "    if(aavg > bavg and aavg>davg):\n",
    "        A='모델a'\n",
    "        B='모델c'\n",
    "        C='모델b'\n",
    "        D='모델d'\n",
    "    elif(bavg > aavg and bavg>davg):\n",
    "        A='모델b'\n",
    "        B='모델c'\n",
    "        C='모델a'\n",
    "        D='모델d'\n",
    "    else:    \n",
    "        A='모델c'\n",
    "        B='모델d'\n",
    "        C='모델a'\n",
    "        D='모델b'\n",
    "elif (davg>aavg and davg>bavg and davg>cavg):\n",
    "    if(aavg > bavg and aavg>cavg):\n",
    "        A='모델a'\n",
    "        B='모델d'\n",
    "        C='모델b'\n",
    "        D='모델c'\n",
    "    elif(bavg > aavg and bavg>cavg):\n",
    "        A='모델b'\n",
    "        B='모델d'\n",
    "        C='모델a'\n",
    "        D='모델c'\n",
    "    else:    \n",
    "        A='모델c'\n",
    "        B='모델d'  \n",
    "        C='모델a'\n",
    "        D='모델b'\n",
    "else:\n",
    "    A='오류'\n",
    "    B='오류'\n",
    "    C='오류'\n",
    "    D='오류'\n",
    "        \n",
    "        \n",
    "# 줄글 설명, 평균값이 높은 2 모델은 robust,나머지는 weak        \n",
    "if (avg >0 and avg <=40):\n",
    "    b= str(avg) + ' /100                             you should never use this model!'\n",
    "    c= 'Your model is  weak aganinst any attack. It is not recommended to use this model'\n",
    "    d= 'This weekness can be caused from setting hyper parameters,maybe input bias,or input capacity etc.'\n",
    "    e= 'if you think none of this are your issues we recommend adversarial training with provided our adversarial examples.'\n",
    "    f= 'Try again with adversarilly trained model and check out the result'\n",
    "\n",
    "elif (avg > 40 and avg <=70):  \n",
    "    b= str(avg) + ' /100                             try harder!'  \n",
    "    c= 'Your model is significantly weak aganinst '+A+ ' attack,and '+B+' attack.But relatively robust against '+C+' attack, and '+D+' attack'\n",
    "    d= 'This weekness can be caused from setting hyper parameters,maybe input bias,or input capacity etc.'\n",
    "    e= 'if you think none of this are your issues we recommend adversarial training with provided our adversarial examples.'\n",
    "    f= 'Try again with adversarilly trained model and check out the result'\n",
    "elif (ave > 70 and ave < 90):\n",
    "    b= str(avg) + ' /100                             try harder more!'\n",
    "    c= 'Your model is significantly weak aganinst '+A+ ' attack,and '+B+ ' attack.But relatively robust against '+C+ ' attack, and '+D+' attack'\n",
    "    d= 'This weekness can be caused from setting hyper parameters,maybe input bias,or input capacity etc.'\n",
    "    e= 'if you think none of this are your issues we recommend adversarial training with provided our adversarial examples.'\n",
    "    f= 'Try again with adversarilly trained model and check out the result'\n",
    "    \n",
    "elif (ave >= 90 and ave <= 100):    \n",
    "    b= str(avg) + ' /100                            you should use this model' \n",
    "    c= ' Your model is robust against any attack. you should use this model'\n",
    "    \n",
    "    e= 'if you think none of this are your issues we recommend adversarial training with provided our adversarial examples.'\n",
    "else:\n",
    "    b= 'error'\n",
    "\n",
    "aaa=vis.text(b)\n",
    "vis.text(k,win=aaa,append=True)\n",
    "vis.text(c,win=aaa,append=True)\n",
    "vis.text(k,win=aaa,append=True)\n",
    "vis.text(d,win=aaa,append=True)\n",
    "vis.text(k,win=aaa,append=True)\n",
    "vis.text(e,win=aaa,append=True)\n",
    "vis.text(k,win=aaa,append=True)\n",
    "vis.text(f,win=aaa,append=True)\n",
    "      \n",
    "      \n",
    "\n"
   ]
  },
  {
   "cell_type": "code",
   "execution_count": null,
   "id": "b62fc99c",
   "metadata": {},
   "outputs": [],
   "source": []
  },
  {
   "cell_type": "code",
   "execution_count": 18,
   "id": "b7fab705",
   "metadata": {},
   "outputs": [
    {
     "ename": "ModuleNotFoundError",
     "evalue": "No module named 'matplotlib'",
     "output_type": "error",
     "traceback": [
      "\u001b[1;31m---------------------------------------------------------------------------\u001b[0m",
      "\u001b[1;31mModuleNotFoundError\u001b[0m                       Traceback (most recent call last)",
      "\u001b[1;32m~\\AppData\\Local\\Temp/ipykernel_6524/3197442784.py\u001b[0m in \u001b[0;36m<module>\u001b[1;34m\u001b[0m\n\u001b[0;32m      1\u001b[0m \u001b[1;31m#여기는 데이터 from PIL import Image\u001b[0m\u001b[1;33m\u001b[0m\u001b[1;33m\u001b[0m\u001b[1;33m\u001b[0m\u001b[0m\n\u001b[1;32m----> 2\u001b[1;33m \u001b[0mget_ipython\u001b[0m\u001b[1;33m(\u001b[0m\u001b[1;33m)\u001b[0m\u001b[1;33m.\u001b[0m\u001b[0mrun_line_magic\u001b[0m\u001b[1;33m(\u001b[0m\u001b[1;34m'matplotlib'\u001b[0m\u001b[1;33m,\u001b[0m \u001b[1;34m'inline'\u001b[0m\u001b[1;33m)\u001b[0m\u001b[1;33m\u001b[0m\u001b[1;33m\u001b[0m\u001b[0m\n\u001b[0m\u001b[0;32m      3\u001b[0m \u001b[1;32mimport\u001b[0m \u001b[0mmatplotlib\u001b[0m\u001b[1;33m.\u001b[0m\u001b[0mpyplot\u001b[0m \u001b[1;32mas\u001b[0m \u001b[0mplt\u001b[0m\u001b[1;33m\u001b[0m\u001b[1;33m\u001b[0m\u001b[0m\n\u001b[0;32m      4\u001b[0m \u001b[1;32mimport\u001b[0m \u001b[0mtorch\u001b[0m\u001b[1;33m\u001b[0m\u001b[1;33m\u001b[0m\u001b[0m\n\u001b[0;32m      5\u001b[0m \u001b[1;32mfrom\u001b[0m \u001b[0mtorch\u001b[0m\u001b[1;33m.\u001b[0m\u001b[0mutils\u001b[0m\u001b[1;33m.\u001b[0m\u001b[0mdata\u001b[0m \u001b[1;32mimport\u001b[0m \u001b[0mDataset\u001b[0m\u001b[1;33m,\u001b[0m\u001b[0mDataLoader\u001b[0m\u001b[1;33m\u001b[0m\u001b[1;33m\u001b[0m\u001b[0m\n",
      "\u001b[1;32m~\\anaconda3\\envs\\Pytorch\\lib\\site-packages\\IPython\\core\\interactiveshell.py\u001b[0m in \u001b[0;36mrun_line_magic\u001b[1;34m(self, magic_name, line, _stack_depth)\u001b[0m\n\u001b[0;32m   2346\u001b[0m                 \u001b[0mkwargs\u001b[0m\u001b[1;33m[\u001b[0m\u001b[1;34m'local_ns'\u001b[0m\u001b[1;33m]\u001b[0m \u001b[1;33m=\u001b[0m \u001b[0mself\u001b[0m\u001b[1;33m.\u001b[0m\u001b[0mget_local_scope\u001b[0m\u001b[1;33m(\u001b[0m\u001b[0mstack_depth\u001b[0m\u001b[1;33m)\u001b[0m\u001b[1;33m\u001b[0m\u001b[1;33m\u001b[0m\u001b[0m\n\u001b[0;32m   2347\u001b[0m             \u001b[1;32mwith\u001b[0m \u001b[0mself\u001b[0m\u001b[1;33m.\u001b[0m\u001b[0mbuiltin_trap\u001b[0m\u001b[1;33m:\u001b[0m\u001b[1;33m\u001b[0m\u001b[1;33m\u001b[0m\u001b[0m\n\u001b[1;32m-> 2348\u001b[1;33m                 \u001b[0mresult\u001b[0m \u001b[1;33m=\u001b[0m \u001b[0mfn\u001b[0m\u001b[1;33m(\u001b[0m\u001b[1;33m*\u001b[0m\u001b[0margs\u001b[0m\u001b[1;33m,\u001b[0m \u001b[1;33m**\u001b[0m\u001b[0mkwargs\u001b[0m\u001b[1;33m)\u001b[0m\u001b[1;33m\u001b[0m\u001b[1;33m\u001b[0m\u001b[0m\n\u001b[0m\u001b[0;32m   2349\u001b[0m             \u001b[1;32mreturn\u001b[0m \u001b[0mresult\u001b[0m\u001b[1;33m\u001b[0m\u001b[1;33m\u001b[0m\u001b[0m\n\u001b[0;32m   2350\u001b[0m \u001b[1;33m\u001b[0m\u001b[0m\n",
      "\u001b[1;32m~\\anaconda3\\envs\\Pytorch\\lib\\site-packages\\decorator.py\u001b[0m in \u001b[0;36mfun\u001b[1;34m(*args, **kw)\u001b[0m\n\u001b[0;32m    230\u001b[0m             \u001b[1;32mif\u001b[0m \u001b[1;32mnot\u001b[0m \u001b[0mkwsyntax\u001b[0m\u001b[1;33m:\u001b[0m\u001b[1;33m\u001b[0m\u001b[1;33m\u001b[0m\u001b[0m\n\u001b[0;32m    231\u001b[0m                 \u001b[0margs\u001b[0m\u001b[1;33m,\u001b[0m \u001b[0mkw\u001b[0m \u001b[1;33m=\u001b[0m \u001b[0mfix\u001b[0m\u001b[1;33m(\u001b[0m\u001b[0margs\u001b[0m\u001b[1;33m,\u001b[0m \u001b[0mkw\u001b[0m\u001b[1;33m,\u001b[0m \u001b[0msig\u001b[0m\u001b[1;33m)\u001b[0m\u001b[1;33m\u001b[0m\u001b[1;33m\u001b[0m\u001b[0m\n\u001b[1;32m--> 232\u001b[1;33m             \u001b[1;32mreturn\u001b[0m \u001b[0mcaller\u001b[0m\u001b[1;33m(\u001b[0m\u001b[0mfunc\u001b[0m\u001b[1;33m,\u001b[0m \u001b[1;33m*\u001b[0m\u001b[1;33m(\u001b[0m\u001b[0mextras\u001b[0m \u001b[1;33m+\u001b[0m \u001b[0margs\u001b[0m\u001b[1;33m)\u001b[0m\u001b[1;33m,\u001b[0m \u001b[1;33m**\u001b[0m\u001b[0mkw\u001b[0m\u001b[1;33m)\u001b[0m\u001b[1;33m\u001b[0m\u001b[1;33m\u001b[0m\u001b[0m\n\u001b[0m\u001b[0;32m    233\u001b[0m     \u001b[0mfun\u001b[0m\u001b[1;33m.\u001b[0m\u001b[0m__name__\u001b[0m \u001b[1;33m=\u001b[0m \u001b[0mfunc\u001b[0m\u001b[1;33m.\u001b[0m\u001b[0m__name__\u001b[0m\u001b[1;33m\u001b[0m\u001b[1;33m\u001b[0m\u001b[0m\n\u001b[0;32m    234\u001b[0m     \u001b[0mfun\u001b[0m\u001b[1;33m.\u001b[0m\u001b[0m__doc__\u001b[0m \u001b[1;33m=\u001b[0m \u001b[0mfunc\u001b[0m\u001b[1;33m.\u001b[0m\u001b[0m__doc__\u001b[0m\u001b[1;33m\u001b[0m\u001b[1;33m\u001b[0m\u001b[0m\n",
      "\u001b[1;32m~\\anaconda3\\envs\\Pytorch\\lib\\site-packages\\IPython\\core\\magic.py\u001b[0m in \u001b[0;36m<lambda>\u001b[1;34m(f, *a, **k)\u001b[0m\n\u001b[0;32m    185\u001b[0m     \u001b[1;31m# but it's overkill for just that one bit of state.\u001b[0m\u001b[1;33m\u001b[0m\u001b[1;33m\u001b[0m\u001b[1;33m\u001b[0m\u001b[0m\n\u001b[0;32m    186\u001b[0m     \u001b[1;32mdef\u001b[0m \u001b[0mmagic_deco\u001b[0m\u001b[1;33m(\u001b[0m\u001b[0marg\u001b[0m\u001b[1;33m)\u001b[0m\u001b[1;33m:\u001b[0m\u001b[1;33m\u001b[0m\u001b[1;33m\u001b[0m\u001b[0m\n\u001b[1;32m--> 187\u001b[1;33m         \u001b[0mcall\u001b[0m \u001b[1;33m=\u001b[0m \u001b[1;32mlambda\u001b[0m \u001b[0mf\u001b[0m\u001b[1;33m,\u001b[0m \u001b[1;33m*\u001b[0m\u001b[0ma\u001b[0m\u001b[1;33m,\u001b[0m \u001b[1;33m**\u001b[0m\u001b[0mk\u001b[0m\u001b[1;33m:\u001b[0m \u001b[0mf\u001b[0m\u001b[1;33m(\u001b[0m\u001b[1;33m*\u001b[0m\u001b[0ma\u001b[0m\u001b[1;33m,\u001b[0m \u001b[1;33m**\u001b[0m\u001b[0mk\u001b[0m\u001b[1;33m)\u001b[0m\u001b[1;33m\u001b[0m\u001b[1;33m\u001b[0m\u001b[0m\n\u001b[0m\u001b[0;32m    188\u001b[0m \u001b[1;33m\u001b[0m\u001b[0m\n\u001b[0;32m    189\u001b[0m         \u001b[1;32mif\u001b[0m \u001b[0mcallable\u001b[0m\u001b[1;33m(\u001b[0m\u001b[0marg\u001b[0m\u001b[1;33m)\u001b[0m\u001b[1;33m:\u001b[0m\u001b[1;33m\u001b[0m\u001b[1;33m\u001b[0m\u001b[0m\n",
      "\u001b[1;32m~\\anaconda3\\envs\\Pytorch\\lib\\site-packages\\IPython\\core\\magics\\pylab.py\u001b[0m in \u001b[0;36mmatplotlib\u001b[1;34m(self, line)\u001b[0m\n\u001b[0;32m     97\u001b[0m             \u001b[0mprint\u001b[0m\u001b[1;33m(\u001b[0m\u001b[1;34m\"Available matplotlib backends: %s\"\u001b[0m \u001b[1;33m%\u001b[0m \u001b[0mbackends_list\u001b[0m\u001b[1;33m)\u001b[0m\u001b[1;33m\u001b[0m\u001b[1;33m\u001b[0m\u001b[0m\n\u001b[0;32m     98\u001b[0m         \u001b[1;32melse\u001b[0m\u001b[1;33m:\u001b[0m\u001b[1;33m\u001b[0m\u001b[1;33m\u001b[0m\u001b[0m\n\u001b[1;32m---> 99\u001b[1;33m             \u001b[0mgui\u001b[0m\u001b[1;33m,\u001b[0m \u001b[0mbackend\u001b[0m \u001b[1;33m=\u001b[0m \u001b[0mself\u001b[0m\u001b[1;33m.\u001b[0m\u001b[0mshell\u001b[0m\u001b[1;33m.\u001b[0m\u001b[0menable_matplotlib\u001b[0m\u001b[1;33m(\u001b[0m\u001b[0margs\u001b[0m\u001b[1;33m.\u001b[0m\u001b[0mgui\u001b[0m\u001b[1;33m.\u001b[0m\u001b[0mlower\u001b[0m\u001b[1;33m(\u001b[0m\u001b[1;33m)\u001b[0m \u001b[1;32mif\u001b[0m \u001b[0misinstance\u001b[0m\u001b[1;33m(\u001b[0m\u001b[0margs\u001b[0m\u001b[1;33m.\u001b[0m\u001b[0mgui\u001b[0m\u001b[1;33m,\u001b[0m \u001b[0mstr\u001b[0m\u001b[1;33m)\u001b[0m \u001b[1;32melse\u001b[0m \u001b[0margs\u001b[0m\u001b[1;33m.\u001b[0m\u001b[0mgui\u001b[0m\u001b[1;33m)\u001b[0m\u001b[1;33m\u001b[0m\u001b[1;33m\u001b[0m\u001b[0m\n\u001b[0m\u001b[0;32m    100\u001b[0m             \u001b[0mself\u001b[0m\u001b[1;33m.\u001b[0m\u001b[0m_show_matplotlib_backend\u001b[0m\u001b[1;33m(\u001b[0m\u001b[0margs\u001b[0m\u001b[1;33m.\u001b[0m\u001b[0mgui\u001b[0m\u001b[1;33m,\u001b[0m \u001b[0mbackend\u001b[0m\u001b[1;33m)\u001b[0m\u001b[1;33m\u001b[0m\u001b[1;33m\u001b[0m\u001b[0m\n\u001b[0;32m    101\u001b[0m \u001b[1;33m\u001b[0m\u001b[0m\n",
      "\u001b[1;32m~\\anaconda3\\envs\\Pytorch\\lib\\site-packages\\IPython\\core\\interactiveshell.py\u001b[0m in \u001b[0;36menable_matplotlib\u001b[1;34m(self, gui)\u001b[0m\n\u001b[0;32m   3515\u001b[0m         \"\"\"\n\u001b[0;32m   3516\u001b[0m         \u001b[1;32mfrom\u001b[0m \u001b[0mIPython\u001b[0m\u001b[1;33m.\u001b[0m\u001b[0mcore\u001b[0m \u001b[1;32mimport\u001b[0m \u001b[0mpylabtools\u001b[0m \u001b[1;32mas\u001b[0m \u001b[0mpt\u001b[0m\u001b[1;33m\u001b[0m\u001b[1;33m\u001b[0m\u001b[0m\n\u001b[1;32m-> 3517\u001b[1;33m         \u001b[1;32mfrom\u001b[0m \u001b[0mmatplotlib_inline\u001b[0m\u001b[1;33m.\u001b[0m\u001b[0mbackend_inline\u001b[0m \u001b[1;32mimport\u001b[0m \u001b[0mconfigure_inline_support\u001b[0m\u001b[1;33m\u001b[0m\u001b[1;33m\u001b[0m\u001b[0m\n\u001b[0m\u001b[0;32m   3518\u001b[0m         \u001b[0mgui\u001b[0m\u001b[1;33m,\u001b[0m \u001b[0mbackend\u001b[0m \u001b[1;33m=\u001b[0m \u001b[0mpt\u001b[0m\u001b[1;33m.\u001b[0m\u001b[0mfind_gui_and_backend\u001b[0m\u001b[1;33m(\u001b[0m\u001b[0mgui\u001b[0m\u001b[1;33m,\u001b[0m \u001b[0mself\u001b[0m\u001b[1;33m.\u001b[0m\u001b[0mpylab_gui_select\u001b[0m\u001b[1;33m)\u001b[0m\u001b[1;33m\u001b[0m\u001b[1;33m\u001b[0m\u001b[0m\n\u001b[0;32m   3519\u001b[0m \u001b[1;33m\u001b[0m\u001b[0m\n",
      "\u001b[1;32m~\\anaconda3\\envs\\Pytorch\\lib\\site-packages\\matplotlib_inline\\backend_inline.py\u001b[0m in \u001b[0;36m<module>\u001b[1;34m\u001b[0m\n\u001b[0;32m      4\u001b[0m \u001b[1;31m# Distributed under the terms of the BSD 3-Clause License.\u001b[0m\u001b[1;33m\u001b[0m\u001b[1;33m\u001b[0m\u001b[1;33m\u001b[0m\u001b[0m\n\u001b[0;32m      5\u001b[0m \u001b[1;33m\u001b[0m\u001b[0m\n\u001b[1;32m----> 6\u001b[1;33m \u001b[1;32mimport\u001b[0m \u001b[0mmatplotlib\u001b[0m\u001b[1;33m\u001b[0m\u001b[1;33m\u001b[0m\u001b[0m\n\u001b[0m\u001b[0;32m      7\u001b[0m from matplotlib.backends.backend_agg import (  # noqa\n\u001b[0;32m      8\u001b[0m     \u001b[0mnew_figure_manager\u001b[0m\u001b[1;33m,\u001b[0m\u001b[1;33m\u001b[0m\u001b[1;33m\u001b[0m\u001b[0m\n",
      "\u001b[1;31mModuleNotFoundError\u001b[0m: No module named 'matplotlib'"
     ]
    }
   ],
   "source": [
    "#여기는 데이터 from PIL import Image\n",
    "%matplotlib inline\n",
    "import matplotlib.pyplot as plt\n",
    "import torch\n",
    "from torch.utils.data import Dataset,DataLoader\n",
    "import numpy as np\n",
    "import torchvision\n",
    "from torchvision import transform"
   ]
  },
  {
   "cell_type": "code",
   "execution_count": null,
   "id": "f2214f16",
   "metadata": {},
   "outputs": [],
   "source": []
  },
  {
   "cell_type": "code",
   "execution_count": null,
   "id": "9e3d92fb",
   "metadata": {},
   "outputs": [],
   "source": []
  }
 ],
 "metadata": {
  "kernelspec": {
   "display_name": "Pytorch",
   "language": "python",
   "name": "pytorch"
  },
  "language_info": {
   "codemirror_mode": {
    "name": "ipython",
    "version": 3
   },
   "file_extension": ".py",
   "mimetype": "text/x-python",
   "name": "python",
   "nbconvert_exporter": "python",
   "pygments_lexer": "ipython3",
   "version": "3.8.11"
  }
 },
 "nbformat": 4,
 "nbformat_minor": 5
}
