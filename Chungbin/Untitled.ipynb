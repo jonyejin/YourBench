{
 "cells": [
  {
   "cell_type": "code",
   "execution_count": 1,
   "id": "cb80c0f9",
   "metadata": {},
   "outputs": [],
   "source": [
    "import torch\n",
    "import torch.nn as nn\n",
    "import torchvision\n",
    "import torchvision.datasets as dsets\n"
   ]
  },
  {
   "cell_type": "code",
   "execution_count": 2,
   "id": "818bf6d7",
   "metadata": {},
   "outputs": [
    {
     "name": "stderr",
     "output_type": "stream",
     "text": [
      "Setting up a new session...\n"
     ]
    }
   ],
   "source": [
    "import visdom\n",
    "vis = visdom.Visdom()"
   ]
  },
  {
   "cell_type": "code",
   "execution_count": 3,
   "id": "1afb721c",
   "metadata": {},
   "outputs": [],
   "source": [
    "#vis.text(\"캡스톤 테스트\",env=\"main\")"
   ]
  },
  {
   "cell_type": "code",
   "execution_count": 4,
   "id": "429e7c80",
   "metadata": {},
   "outputs": [
    {
     "data": {
      "text/plain": [
       "'window_3a06d35353e674'"
      ]
     },
     "execution_count": 4,
     "metadata": {},
     "output_type": "execute_result"
    }
   ],
   "source": [
    "r = torch.randn(3, 200, 200) # 200x200크기의 임의 이미지 데이터 생성\n",
    "vis.image(r) # 출력"
   ]
  },
  {
   "cell_type": "code",
   "execution_count": 5,
   "id": "5317b5c8",
   "metadata": {},
   "outputs": [],
   "source": [
    "#Y_data = torch.randn(5)\n",
    "#plt = vis.line(Y=Y_data)"
   ]
  },
  {
   "cell_type": "code",
   "execution_count": 6,
   "id": "8ce9d063",
   "metadata": {},
   "outputs": [
    {
     "name": "stdout",
     "output_type": "stream",
     "text": [
      "torch.Size([10])\n",
      "torch.Size([10, 1])\n",
      "torch.Size([10, 2])\n"
     ]
    },
    {
     "data": {
      "text/plain": [
       "torch.Size([10, 2])"
      ]
     },
     "execution_count": 6,
     "metadata": {},
     "output_type": "execute_result"
    }
   ],
   "source": [
    "num = torch.Tensor(list(range(0,10)))\n",
    "print(num.shape)\n",
    "num=num.view(-1,1)\n",
    "print(num.shape)\n",
    "num=torch.cat((num,num),dim=1)\n",
    "print(num.shape)\n",
    "\n",
    "plt = vis.line(Y=torch.randn(10,2),X=num)\n",
    "\n",
    "torch.Size([10])\n",
    "torch.Size([10,1])\n",
    "torch.Size([10,2])"
   ]
  },
  {
   "cell_type": "code",
   "execution_count": 7,
   "id": "8eae1c11",
   "metadata": {},
   "outputs": [
    {
     "data": {
      "text/plain": [
       "''"
      ]
     },
     "execution_count": 7,
     "metadata": {},
     "output_type": "execute_result"
    }
   ],
   "source": [
    "vis.close(env=\"main\")\n",
    "#열려있는 창들을 한번에 없앨떄"
   ]
  },
  {
   "cell_type": "code",
   "execution_count": 8,
   "id": "d375ea89",
   "metadata": {},
   "outputs": [],
   "source": [
    "#number = input(\"숫자를 입력하세요: \")\n",
    "#print(number)\n",
    "# 더미데이터값을 직접 입력할때"
   ]
  },
  {
   "cell_type": "code",
   "execution_count": 9,
   "id": "38f48e4d",
   "metadata": {},
   "outputs": [
    {
     "data": {
      "text/plain": [
       "'window_3a06d353fb3de2'"
      ]
     },
     "execution_count": 9,
     "metadata": {},
     "output_type": "execute_result"
    }
   ],
   "source": [
    "#더미 데이터 12게\n",
    "#a1,a2,a3은 모델a의 best,average,worst case 값\n",
    "#a4,a5,a6은 모델b의 best,average,worst case 값\n",
    "#a7,a8,a9은 모델c의 best,average,worst case 값\n",
    "#a10,a11,a12은 모델d의 best,average,worst case 값\n",
    "\n",
    "a1=0.5\n",
    "a2=0.4\n",
    "a3=0.3\n",
    "a4=0.8\n",
    "a5=0.6\n",
    "a6=0.1\n",
    "a7=0.4\n",
    "a8=0.3\n",
    "a9=0.2\n",
    "a10=0.5\n",
    "a11=0.6\n",
    "a12=0.9\n",
    "\n",
    "vis.line(#X=torch.Tensor([[1, 1,1],[1,1,1], [1, 1,1],[1,1,1]]),\n",
    "    \n",
    "    Y=torch.Tensor([[a1, a2,a3],[a4,a5,a6], [a7, a8,a9],[a10,a11,a12]]),\n",
    "         \n",
    "         opts=dict(xlabel=\"모델a  모델b   모델c  모델d\", \n",
    "             title=\"그래프(왼쪽부터 모델a,모델b,모델c,모델d)\",legend=[\"Best case\", \"Average case\",\"Worst case\"], showlegend=True ))\n",
    "#plt = vis.line( Y=Y_data, X=X_data, opts=dict( title=\"Test Title\", showlegend=True )\n",
    "#)\n",
    "#vis.text(\"그래프 설명: 왼쪽부터 (모델a,모델b,모델c,모델d)\",env=\"main\")\n",
    "\n",
    "#모델 4개의 best average worst case값을 알면 그래프를 그릴 수가 있다."
   ]
  },
  {
   "cell_type": "code",
   "execution_count": 10,
   "id": "01d8caf3",
   "metadata": {
    "scrolled": true
   },
   "outputs": [
    {
     "ename": "NameError",
     "evalue": "name 'cx' is not defined",
     "output_type": "error",
     "traceback": [
      "\u001b[1;31m---------------------------------------------------------------------------\u001b[0m",
      "\u001b[1;31mNameError\u001b[0m                                 Traceback (most recent call last)",
      "\u001b[1;32m~\\AppData\\Local\\Temp/ipykernel_7676/3002050977.py\u001b[0m in \u001b[0;36m<module>\u001b[1;34m\u001b[0m\n\u001b[0;32m      3\u001b[0m \u001b[1;32melse\u001b[0m\u001b[1;33m:\u001b[0m\u001b[1;33m\u001b[0m\u001b[1;33m\u001b[0m\u001b[0m\n\u001b[0;32m      4\u001b[0m     \u001b[0mab\u001b[0m\u001b[1;33m=\u001b[0m\u001b[1;36m1\u001b[0m\u001b[1;33m+\u001b[0m\u001b[1;36m7\u001b[0m\u001b[1;33m\u001b[0m\u001b[1;33m\u001b[0m\u001b[0m\n\u001b[1;32m----> 5\u001b[1;33m \u001b[0mvis\u001b[0m\u001b[1;33m.\u001b[0m\u001b[0mtext\u001b[0m\u001b[1;33m(\u001b[0m\u001b[0mcx\u001b[0m\u001b[1;33m,\u001b[0m\u001b[0menv\u001b[0m\u001b[1;33m=\u001b[0m\u001b[1;34m\"main\"\u001b[0m\u001b[1;33m)\u001b[0m\u001b[1;33m\u001b[0m\u001b[1;33m\u001b[0m\u001b[0m\n\u001b[0m\u001b[0;32m      6\u001b[0m \u001b[1;33m\u001b[0m\u001b[0m\n\u001b[0;32m      7\u001b[0m \u001b[1;31m#값 계산,설명 idea\u001b[0m\u001b[1;33m\u001b[0m\u001b[1;33m\u001b[0m\u001b[1;33m\u001b[0m\u001b[0m\n",
      "\u001b[1;31mNameError\u001b[0m: name 'cx' is not defined"
     ]
    }
   ],
   "source": [
    "if (1>2):\n",
    "    ab=1+5\n",
    "else:\n",
    "    ab=1+7\n",
    "vis.text(cx,env=\"main\")\n",
    "\n",
    "#값 계산,설명 idea "
   ]
  },
  {
   "cell_type": "code",
   "execution_count": null,
   "id": "e9777c33",
   "metadata": {},
   "outputs": [],
   "source": [
    "#vis.close(env=\"main\")"
   ]
  },
  {
   "cell_type": "code",
   "execution_count": 11,
   "id": "b36734ec",
   "metadata": {},
   "outputs": [],
   "source": [
    "#Y_data = torch.randn(5)\n",
    "#plt = vis.line (Y=Y_data)"
   ]
  },
  {
   "cell_type": "code",
   "execution_count": 12,
   "id": "77133ec9",
   "metadata": {},
   "outputs": [],
   "source": [
    "#a='a'\n",
    "#b='b'\n",
    "#c='c'\n",
    "#d='d'\n",
    "#X_data = torch.Tensor([a,b,c,d])\n",
    "#plt = vis.line(Y=Y_data, X=X_data)"
   ]
  },
  {
   "cell_type": "code",
   "execution_count": 24,
   "id": "ae20a186",
   "metadata": {},
   "outputs": [
    {
     "name": "stdout",
     "output_type": "stream",
     "text": [
      "   col0  col1  col2\n",
      "0     1    10   100\n",
      "1     2    20   200\n",
      "2     3    30   300\n",
      "3     4    40   400\n"
     ]
    },
    {
     "ename": "TypeError",
     "evalue": "Object of type DataFrame is not JSON serializable",
     "output_type": "error",
     "traceback": [
      "\u001b[1;31m---------------------------------------------------------------------------\u001b[0m",
      "\u001b[1;31mTypeError\u001b[0m                                 Traceback (most recent call last)",
      "\u001b[1;32m~\\AppData\\Local\\Temp/ipykernel_7676/903347138.py\u001b[0m in \u001b[0;36m<module>\u001b[1;34m\u001b[0m\n\u001b[0;32m      7\u001b[0m \u001b[0mdata\u001b[0m \u001b[1;33m=\u001b[0m \u001b[0mDataFrame\u001b[0m\u001b[1;33m(\u001b[0m\u001b[0mraw_data\u001b[0m\u001b[1;33m)\u001b[0m\u001b[1;33m\u001b[0m\u001b[1;33m\u001b[0m\u001b[0m\n\u001b[0;32m      8\u001b[0m \u001b[0mprint\u001b[0m\u001b[1;33m(\u001b[0m\u001b[0mdata\u001b[0m\u001b[1;33m)\u001b[0m\u001b[1;33m\u001b[0m\u001b[1;33m\u001b[0m\u001b[0m\n\u001b[1;32m----> 9\u001b[1;33m \u001b[0mvis\u001b[0m\u001b[1;33m.\u001b[0m\u001b[0mtext\u001b[0m\u001b[1;33m(\u001b[0m\u001b[0mdata\u001b[0m\u001b[1;33m)\u001b[0m\u001b[1;33m\u001b[0m\u001b[1;33m\u001b[0m\u001b[0m\n\u001b[0m",
      "\u001b[1;32m~\\anaconda3\\envs\\Pytorch\\lib\\site-packages\\visdom\\__init__.py\u001b[0m in \u001b[0;36mtext\u001b[1;34m(self, text, win, env, opts, append)\u001b[0m\n\u001b[0;32m    920\u001b[0m             \u001b[0mendpoint\u001b[0m \u001b[1;33m=\u001b[0m \u001b[1;34m'events'\u001b[0m\u001b[1;33m\u001b[0m\u001b[1;33m\u001b[0m\u001b[0m\n\u001b[0;32m    921\u001b[0m \u001b[1;33m\u001b[0m\u001b[0m\n\u001b[1;32m--> 922\u001b[1;33m         return self._send({\n\u001b[0m\u001b[0;32m    923\u001b[0m             \u001b[1;34m'data'\u001b[0m\u001b[1;33m:\u001b[0m \u001b[0mdata\u001b[0m\u001b[1;33m,\u001b[0m\u001b[1;33m\u001b[0m\u001b[1;33m\u001b[0m\u001b[0m\n\u001b[0;32m    924\u001b[0m             \u001b[1;34m'win'\u001b[0m\u001b[1;33m:\u001b[0m \u001b[0mwin\u001b[0m\u001b[1;33m,\u001b[0m\u001b[1;33m\u001b[0m\u001b[1;33m\u001b[0m\u001b[0m\n",
      "\u001b[1;32m~\\anaconda3\\envs\\Pytorch\\lib\\site-packages\\visdom\\__init__.py\u001b[0m in \u001b[0;36m_send\u001b[1;34m(self, msg, endpoint, quiet, from_log, create)\u001b[0m\n\u001b[0;32m    709\u001b[0m                 \"{0}:{1}{2}/{3}\".format(self.server, self.port,\n\u001b[0;32m    710\u001b[0m                                         self.base_url, endpoint),\n\u001b[1;32m--> 711\u001b[1;33m                 \u001b[0mdata\u001b[0m\u001b[1;33m=\u001b[0m\u001b[0mjson\u001b[0m\u001b[1;33m.\u001b[0m\u001b[0mdumps\u001b[0m\u001b[1;33m(\u001b[0m\u001b[0mmsg\u001b[0m\u001b[1;33m)\u001b[0m\u001b[1;33m,\u001b[0m\u001b[1;33m\u001b[0m\u001b[1;33m\u001b[0m\u001b[0m\n\u001b[0m\u001b[0;32m    712\u001b[0m             )\n\u001b[0;32m    713\u001b[0m         except (\n",
      "\u001b[1;32m~\\anaconda3\\envs\\Pytorch\\lib\\json\\__init__.py\u001b[0m in \u001b[0;36mdumps\u001b[1;34m(obj, skipkeys, ensure_ascii, check_circular, allow_nan, cls, indent, separators, default, sort_keys, **kw)\u001b[0m\n\u001b[0;32m    229\u001b[0m         \u001b[0mcls\u001b[0m \u001b[1;32mis\u001b[0m \u001b[1;32mNone\u001b[0m \u001b[1;32mand\u001b[0m \u001b[0mindent\u001b[0m \u001b[1;32mis\u001b[0m \u001b[1;32mNone\u001b[0m \u001b[1;32mand\u001b[0m \u001b[0mseparators\u001b[0m \u001b[1;32mis\u001b[0m \u001b[1;32mNone\u001b[0m \u001b[1;32mand\u001b[0m\u001b[1;33m\u001b[0m\u001b[1;33m\u001b[0m\u001b[0m\n\u001b[0;32m    230\u001b[0m         default is None and not sort_keys and not kw):\n\u001b[1;32m--> 231\u001b[1;33m         \u001b[1;32mreturn\u001b[0m \u001b[0m_default_encoder\u001b[0m\u001b[1;33m.\u001b[0m\u001b[0mencode\u001b[0m\u001b[1;33m(\u001b[0m\u001b[0mobj\u001b[0m\u001b[1;33m)\u001b[0m\u001b[1;33m\u001b[0m\u001b[1;33m\u001b[0m\u001b[0m\n\u001b[0m\u001b[0;32m    232\u001b[0m     \u001b[1;32mif\u001b[0m \u001b[0mcls\u001b[0m \u001b[1;32mis\u001b[0m \u001b[1;32mNone\u001b[0m\u001b[1;33m:\u001b[0m\u001b[1;33m\u001b[0m\u001b[1;33m\u001b[0m\u001b[0m\n\u001b[0;32m    233\u001b[0m         \u001b[0mcls\u001b[0m \u001b[1;33m=\u001b[0m \u001b[0mJSONEncoder\u001b[0m\u001b[1;33m\u001b[0m\u001b[1;33m\u001b[0m\u001b[0m\n",
      "\u001b[1;32m~\\anaconda3\\envs\\Pytorch\\lib\\json\\encoder.py\u001b[0m in \u001b[0;36mencode\u001b[1;34m(self, o)\u001b[0m\n\u001b[0;32m    197\u001b[0m         \u001b[1;31m# exceptions aren't as detailed.  The list call should be roughly\u001b[0m\u001b[1;33m\u001b[0m\u001b[1;33m\u001b[0m\u001b[1;33m\u001b[0m\u001b[0m\n\u001b[0;32m    198\u001b[0m         \u001b[1;31m# equivalent to the PySequence_Fast that ''.join() would do.\u001b[0m\u001b[1;33m\u001b[0m\u001b[1;33m\u001b[0m\u001b[1;33m\u001b[0m\u001b[0m\n\u001b[1;32m--> 199\u001b[1;33m         \u001b[0mchunks\u001b[0m \u001b[1;33m=\u001b[0m \u001b[0mself\u001b[0m\u001b[1;33m.\u001b[0m\u001b[0miterencode\u001b[0m\u001b[1;33m(\u001b[0m\u001b[0mo\u001b[0m\u001b[1;33m,\u001b[0m \u001b[0m_one_shot\u001b[0m\u001b[1;33m=\u001b[0m\u001b[1;32mTrue\u001b[0m\u001b[1;33m)\u001b[0m\u001b[1;33m\u001b[0m\u001b[1;33m\u001b[0m\u001b[0m\n\u001b[0m\u001b[0;32m    200\u001b[0m         \u001b[1;32mif\u001b[0m \u001b[1;32mnot\u001b[0m \u001b[0misinstance\u001b[0m\u001b[1;33m(\u001b[0m\u001b[0mchunks\u001b[0m\u001b[1;33m,\u001b[0m \u001b[1;33m(\u001b[0m\u001b[0mlist\u001b[0m\u001b[1;33m,\u001b[0m \u001b[0mtuple\u001b[0m\u001b[1;33m)\u001b[0m\u001b[1;33m)\u001b[0m\u001b[1;33m:\u001b[0m\u001b[1;33m\u001b[0m\u001b[1;33m\u001b[0m\u001b[0m\n\u001b[0;32m    201\u001b[0m             \u001b[0mchunks\u001b[0m \u001b[1;33m=\u001b[0m \u001b[0mlist\u001b[0m\u001b[1;33m(\u001b[0m\u001b[0mchunks\u001b[0m\u001b[1;33m)\u001b[0m\u001b[1;33m\u001b[0m\u001b[1;33m\u001b[0m\u001b[0m\n",
      "\u001b[1;32m~\\anaconda3\\envs\\Pytorch\\lib\\json\\encoder.py\u001b[0m in \u001b[0;36miterencode\u001b[1;34m(self, o, _one_shot)\u001b[0m\n\u001b[0;32m    255\u001b[0m                 \u001b[0mself\u001b[0m\u001b[1;33m.\u001b[0m\u001b[0mkey_separator\u001b[0m\u001b[1;33m,\u001b[0m \u001b[0mself\u001b[0m\u001b[1;33m.\u001b[0m\u001b[0mitem_separator\u001b[0m\u001b[1;33m,\u001b[0m \u001b[0mself\u001b[0m\u001b[1;33m.\u001b[0m\u001b[0msort_keys\u001b[0m\u001b[1;33m,\u001b[0m\u001b[1;33m\u001b[0m\u001b[1;33m\u001b[0m\u001b[0m\n\u001b[0;32m    256\u001b[0m                 self.skipkeys, _one_shot)\n\u001b[1;32m--> 257\u001b[1;33m         \u001b[1;32mreturn\u001b[0m \u001b[0m_iterencode\u001b[0m\u001b[1;33m(\u001b[0m\u001b[0mo\u001b[0m\u001b[1;33m,\u001b[0m \u001b[1;36m0\u001b[0m\u001b[1;33m)\u001b[0m\u001b[1;33m\u001b[0m\u001b[1;33m\u001b[0m\u001b[0m\n\u001b[0m\u001b[0;32m    258\u001b[0m \u001b[1;33m\u001b[0m\u001b[0m\n\u001b[0;32m    259\u001b[0m def _make_iterencode(markers, _default, _encoder, _indent, _floatstr,\n",
      "\u001b[1;32m~\\anaconda3\\envs\\Pytorch\\lib\\json\\encoder.py\u001b[0m in \u001b[0;36mdefault\u001b[1;34m(self, o)\u001b[0m\n\u001b[0;32m    177\u001b[0m \u001b[1;33m\u001b[0m\u001b[0m\n\u001b[0;32m    178\u001b[0m         \"\"\"\n\u001b[1;32m--> 179\u001b[1;33m         raise TypeError(f'Object of type {o.__class__.__name__} '\n\u001b[0m\u001b[0;32m    180\u001b[0m                         f'is not JSON serializable')\n\u001b[0;32m    181\u001b[0m \u001b[1;33m\u001b[0m\u001b[0m\n",
      "\u001b[1;31mTypeError\u001b[0m: Object of type DataFrame is not JSON serializable"
     ]
    }
   ],
   "source": [
    "from pandas import Series, DataFrame\n",
    "\n",
    "raw_data = {'col0': [1, 2, 3, 4],\n",
    "            'col1': [10, 20, 30, 40],\n",
    "            'col2': [100, 200, 300, 400]}\n",
    "\n",
    "data = DataFrame(raw_data)\n",
    "print(data)\n",
    "vis.text(data)"
   ]
  },
  {
   "cell_type": "code",
   "execution_count": 25,
   "id": "e1d50087",
   "metadata": {},
   "outputs": [
    {
     "data": {
      "text/plain": [
       "'window_3a06d433cb8868'"
      ]
     },
     "execution_count": 25,
     "metadata": {},
     "output_type": "execute_result"
    }
   ],
   "source": [
    "#a13 = str(a1) str(a2) str(a3)\n",
    "\n",
    "updatetextwindow = vis.text('Top-5 Accuracy against attacks')\n",
    "vis.text('-----------------------------------', win=updatetextwindow, append=True)\n",
    "vis.text('   || top-5  |  bst |  avg  |  wst  ||', win=updatetextwindow, append=True)\n",
    "vis.text('   ||모델 a  |   ' + str(a1) + '                                   |      '+ \n",
    "         str(a2)+'                |            '+\n",
    "         str(a3)+'                               || '\n",
    "         , win=updatetextwindow, append=True)  \n",
    "\n",
    "vis.text('   ||모델 b  |   ' + str(a4) + '                                   |      '+ \n",
    "         str(a5)+'                |            '+\n",
    "         str(a6)+'                               || '\n",
    "         , win=updatetextwindow, append=True)  \n",
    "\n",
    "vis.text('   ||모델 c  |   ' + str(a7) + '                                   |      '+ \n",
    "         str(a8)+'                |            '+\n",
    "         str(a9)+'                               || '\n",
    "         , win=updatetextwindow, append=True)  \n",
    "\n",
    "vis.text('   ||모델 d  |   ' + str(a10) + '                                   |      '+ \n",
    "         str(a11)+'                |            '+\n",
    "         str(a12)+'                               || '\n",
    "         , win=updatetextwindow, append=True)  \n",
    "\n",
    "\n",
    "vis.text('-----------------------------------', win=updatetextwindow, append=True)"
   ]
  },
  {
   "cell_type": "code",
   "execution_count": 15,
   "id": "d020f569",
   "metadata": {},
   "outputs": [
    {
     "data": {
      "text/plain": [
       "'window_3a06d3566a688e'"
      ]
     },
     "execution_count": 15,
     "metadata": {},
     "output_type": "execute_result"
    }
   ],
   "source": [
    "vis.text(a1)"
   ]
  },
  {
   "cell_type": "code",
   "execution_count": null,
   "id": "134b2422",
   "metadata": {},
   "outputs": [],
   "source": []
  },
  {
   "cell_type": "code",
   "execution_count": null,
   "id": "61c5cb64",
   "metadata": {},
   "outputs": [],
   "source": []
  }
 ],
 "metadata": {
  "kernelspec": {
   "display_name": "Pytorch",
   "language": "python",
   "name": "pytorch"
  },
  "language_info": {
   "codemirror_mode": {
    "name": "ipython",
    "version": 3
   },
   "file_extension": ".py",
   "mimetype": "text/x-python",
   "name": "python",
   "nbconvert_exporter": "python",
   "pygments_lexer": "ipython3",
   "version": "3.8.11"
  }
 },
 "nbformat": 4,
 "nbformat_minor": 5
}
